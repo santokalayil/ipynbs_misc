{
 "cells": [
  {
   "cell_type": "code",
   "execution_count": 25,
   "metadata": {},
   "outputs": [],
   "source": [
    "import subprocess"
   ]
  },
  {
   "cell_type": "code",
   "execution_count": 74,
   "metadata": {},
   "outputs": [],
   "source": [
    "# Finding Wify networks available\n",
    "\n",
    "devices = subprocess.check_output('netsh wlan show network'.split())\n",
    "devices = devices.decode('ascii')\n",
    "print(devices)"
   ]
  },
  {
   "cell_type": "code",
   "execution_count": 36,
   "metadata": {},
   "outputs": [],
   "source": [
    "import subprocess\n",
    "\n",
    "class network():\n",
    "    def __init__(self,):\n",
    "        self.net_info = self.info()\n",
    "        self.networks = self.json()\n",
    "    def info(self):\n",
    "        devices = subprocess.check_output('netsh wlan show network'.split())\n",
    "        networks_info = devices.decode('ascii')\n",
    "        self.net_info = networks_info\n",
    "        return self.net_info\n",
    "    def json(self):\n",
    "        ssid_list = [j.strip() for j in [i for i in self.net_info.split('\\r')]]\n",
    "        idx_ntwk = [idx for idx, ID in enumerate(ssid_list) if \"SSID \" in ID]\n",
    "        networks = [ssid_list[i:i+4] for i in idx_ntwk]\n",
    "        networks = [{i.split(' : ')[0].strip() : i.split(' : ')[1] for i in network if len(i.split(' : '))==2} \\\n",
    "                    for network in networks]\n",
    "        self.networks = networks\n",
    "        return self.networks\n",
    "    def show_info(self):\n",
    "        print(self.net_info)"
   ]
  },
  {
   "cell_type": "code",
   "execution_count": 37,
   "metadata": {},
   "outputs": [],
   "source": [
    "nw = network()"
   ]
  },
  {
   "cell_type": "code",
   "execution_count": 38,
   "metadata": {},
   "outputs": [
    {
     "name": "stdout",
     "output_type": "stream",
     "text": [
      " \r\n",
      "Interface name : Wi-Fi \r\n",
      "There are 6 networks currently visible. \r\n",
      "\r\n",
      "SSID 1 : JioFi2_C55D4E\r\n",
      "    Network type            : Infrastructure\r\n",
      "    Authentication          : WPA2-Personal\r\n",
      "    Encryption              : CCMP \r\n",
      "\r\n",
      "SSID 2 : Jay-JioFiber-Mcg4Q\r\n",
      "    Network type            : Infrastructure\r\n",
      "    Authentication          : WPA2-Personal\r\n",
      "    Encryption              : CCMP \r\n",
      "\r\n",
      "SSID 3 : JioFi2_C29AAE\r\n",
      "    Network type            : Infrastructure\r\n",
      "    Authentication          : WPA2-Personal\r\n",
      "    Encryption              : CCMP \r\n",
      "\r\n",
      "SSID 4 : TP-LINK_2470\r\n",
      "    Network type            : Infrastructure\r\n",
      "    Authentication          : WPA2-Personal\r\n",
      "    Encryption              : CCMP \r\n",
      "\r\n",
      "SSID 5 : ACT102326071225\r\n",
      "    Network type            : Infrastructure\r\n",
      "    Authentication          : WPA2-Personal\r\n",
      "    Encryption              : CCMP \r\n",
      "\r\n",
      "SSID 6 : pari\r\n",
      "    Network type            : Infrastructure\r\n",
      "    Authentication          : WPA2-Personal\r\n",
      "    Encryption              : CCMP \r\n",
      "\r\n",
      "\n"
     ]
    }
   ],
   "source": [
    "nw.show_info()"
   ]
  },
  {
   "cell_type": "code",
   "execution_count": null,
   "metadata": {},
   "outputs": [],
   "source": []
  },
  {
   "cell_type": "code",
   "execution_count": 52,
   "metadata": {},
   "outputs": [
    {
     "data": {
      "text/plain": [
       "[{'SSID 1': 'JioFi2_C55D4E',\n",
       "  'Network type': 'Infrastructure',\n",
       "  'Authentication': 'WPA2-Personal',\n",
       "  'Encryption': 'CCMP'},\n",
       " {'SSID 2': 'JioFi2_C29AAE',\n",
       "  'Network type': 'Infrastructure',\n",
       "  'Authentication': 'WPA2-Personal',\n",
       "  'Encryption': 'CCMP'},\n",
       " {'SSID 3': 'JioFiber-tYSkm',\n",
       "  'Network type': 'Infrastructure',\n",
       "  'Authentication': 'WPA2-Personal',\n",
       "  'Encryption': 'CCMP'},\n",
       " {'SSID 4': 'Jay-JioFiber-Mcg4Q',\n",
       "  'Network type': 'Infrastructure',\n",
       "  'Authentication': 'WPA2-Personal',\n",
       "  'Encryption': 'CCMP'},\n",
       " {'Network type': 'Infrastructure',\n",
       "  'Authentication': 'WPA2-Personal',\n",
       "  'Encryption': 'CCMP'},\n",
       " {'SSID 6': 'ACT102326071225',\n",
       "  'Network type': 'Infrastructure',\n",
       "  'Authentication': 'WPA2-Personal',\n",
       "  'Encryption': 'CCMP'}]"
      ]
     },
     "execution_count": 52,
     "metadata": {},
     "output_type": "execute_result"
    }
   ],
   "source": [
    "ssid_list = [j.strip() for j in [i for i in devices.split('\\r')]]\n",
    "idx_ntwk = [idx for idx, ID in enumerate(ssid_list) if \"SSID \" in ID]\n",
    "networks = [ssid_list[i:i+4] for i in idx_ntwk]\n",
    "networks = [{i.split(' : ')[0].strip() : i.split(' : ')[1] for i in network if len(i.split(' : '))==2} \\\n",
    "            for network in networks]\n",
    "networks"
   ]
  },
  {
   "cell_type": "markdown",
   "metadata": {},
   "source": [
    "# Finding Passwords of Saves Wify Profiles"
   ]
  },
  {
   "cell_type": "code",
   "execution_count": 76,
   "metadata": {},
   "outputs": [],
   "source": [
    "output = subprocess.check_output('netsh wlan show profiles'.split())\n",
    "output = output.decode('utf-8')\n",
    "profiles = [p.strip() for p in [o for o in output.split('User profiles\\r\\n-------------\\r\\n    ')][1]\n",
    "            .split('All User Profile     : ')]\n",
    "profiles = [p for p in profiles if p != '']"
   ]
  },
  {
   "cell_type": "code",
   "execution_count": 77,
   "metadata": {},
   "outputs": [
    {
     "data": {
      "text/plain": [
       "['JioFi2_C55D4E',\n",
       " 'OnePlus 7 Pro jainu',\n",
       " 'CPH1701',\n",
       " \"Santo's iPad\",\n",
       " 'PGPDSE_Sep-19']"
      ]
     },
     "execution_count": 77,
     "metadata": {},
     "output_type": "execute_result"
    }
   ],
   "source": [
    "profiles"
   ]
  },
  {
   "cell_type": "code",
   "execution_count": 111,
   "metadata": {},
   "outputs": [],
   "source": [
    "def wifyProfileInfo(profile):\n",
    "    try:\n",
    "        cmd_list = ['netsh', 'wlan', 'show', 'profile', profile, 'key=clear']\n",
    "        output = subprocess.check_output(cmd_list)\n",
    "        output = output.decode('utf-8').replace('\\r','')\n",
    "    except:\n",
    "        output = None\n",
    "    return output"
   ]
  },
  {
   "cell_type": "code",
   "execution_count": 116,
   "metadata": {},
   "outputs": [],
   "source": [
    "def findWifyPassword(profiles):\n",
    "    d = {}\n",
    "    for profile in profiles:\n",
    "        output = wifyProfileInfo(profile)\n",
    "        if output is not None:\n",
    "            d.update({profile:[line.split(': ')[1] for line in output.split('\\n') if 'Key Content' in line][0]})\n",
    "    return d"
   ]
  },
  {
   "cell_type": "code",
   "execution_count": 117,
   "metadata": {},
   "outputs": [
    {
     "data": {
      "text/plain": [
       "{'JioFi2_C55D4E': 'xybmkek2hn',\n",
       " 'OnePlus 7 Pro jainu': '6657cc4668b7',\n",
       " 'CPH1701': '1Ambanikeejay',\n",
       " 'PGPDSE_Sep-19': 'Dse@Sep@19'}"
      ]
     },
     "execution_count": 117,
     "metadata": {},
     "output_type": "execute_result"
    }
   ],
   "source": [
    "findWifyPassword(profiles)"
   ]
  },
  {
   "cell_type": "raw",
   "metadata": {},
   "source": [
    "try:\n",
    "    subprocess.check_output(\"dir /f\",shell=True,stderr=subprocess.STDOUT)\n",
    "except subprocess.CalledProcessError as e:\n",
    "    print(e)\n",
    "    raise RuntimeError(\"command '{}' return with error (code {}): {}\".format(e.cmd, e.returncode, e.output))"
   ]
  },
  {
   "cell_type": "code",
   "execution_count": 143,
   "metadata": {},
   "outputs": [],
   "source": [
    "def cmd_shell(cmd, shell=False, encoding='utf-8'):\n",
    "    output = subprocess.check_output(cmd, shell=shell, stderr=subprocess.STDOUT).decode(encoding)\n",
    "    print(output)\n",
    "    return output"
   ]
  },
  {
   "cell_type": "code",
   "execution_count": 144,
   "metadata": {},
   "outputs": [
    {
     "name": "stdout",
     "output_type": "stream",
     "text": [
      "basics\tcudart64_101.dll  Deep\\ Learning  installation\tML  Wify\\ Hack.ipynb\n",
      "\n"
     ]
    },
    {
     "data": {
      "text/plain": [
       "'basics\\tcudart64_101.dll  Deep\\\\ Learning  installation\\tML  Wify\\\\ Hack.ipynb\\n'"
      ]
     },
     "execution_count": 144,
     "metadata": {},
     "output_type": "execute_result"
    }
   ],
   "source": [
    "cmd_shell('dir', False)"
   ]
  },
  {
   "cell_type": "code",
   "execution_count": 145,
   "metadata": {},
   "outputs": [
    {
     "name": "stdout",
     "output_type": "stream",
     "text": [
      " Volume in drive E has no label.\r\n",
      " Volume Serial Number is 509D-3CF5\r\n",
      "\r\n",
      " Directory of E:\\JN\\TF\r\n",
      "\r\n",
      "05/29/2020  12:42 PM    <DIR>          .\r\n",
      "05/29/2020  12:42 PM    <DIR>          ..\r\n",
      "05/29/2020  10:45 AM    <DIR>          .ipynb_checkpoints\r\n",
      "05/24/2020  08:49 PM    <DIR>          basics\r\n",
      "05/25/2020  12:32 AM           408,064 cudart64_101.dll\r\n",
      "05/28/2020  01:06 AM    <DIR>          Deep Learning\r\n",
      "05/24/2020  08:58 PM    <DIR>          installation\r\n",
      "05/24/2020  08:50 PM    <DIR>          ML\r\n",
      "05/29/2020  12:42 PM             8,111 Wify Hack.ipynb\r\n",
      "               2 File(s)        416,175 bytes\r\n",
      "               7 Dir(s)   4,518,670,336 bytes free\r\n",
      "\n"
     ]
    },
    {
     "data": {
      "text/plain": [
       "' Volume in drive E has no label.\\r\\n Volume Serial Number is 509D-3CF5\\r\\n\\r\\n Directory of E:\\\\JN\\\\TF\\r\\n\\r\\n05/29/2020  12:42 PM    <DIR>          .\\r\\n05/29/2020  12:42 PM    <DIR>          ..\\r\\n05/29/2020  10:45 AM    <DIR>          .ipynb_checkpoints\\r\\n05/24/2020  08:49 PM    <DIR>          basics\\r\\n05/25/2020  12:32 AM           408,064 cudart64_101.dll\\r\\n05/28/2020  01:06 AM    <DIR>          Deep Learning\\r\\n05/24/2020  08:58 PM    <DIR>          installation\\r\\n05/24/2020  08:50 PM    <DIR>          ML\\r\\n05/29/2020  12:42 PM             8,111 Wify Hack.ipynb\\r\\n               2 File(s)        416,175 bytes\\r\\n               7 Dir(s)   4,518,670,336 bytes free\\r\\n'"
      ]
     },
     "execution_count": 145,
     "metadata": {},
     "output_type": "execute_result"
    }
   ],
   "source": [
    "cmd_shell('dir', True)"
   ]
  },
  {
   "cell_type": "code",
   "execution_count": 20,
   "metadata": {},
   "outputs": [],
   "source": [
    "class Wify():\n",
    "    def __init__(self, ):\n",
    "        self.profiles = self.find_profiles()\n",
    "        self.passwords = self.find_passwords()\n",
    "        self.save_result()\n",
    "    \n",
    "    def find_profiles(self,):\n",
    "        output = subprocess.check_output('netsh wlan show profiles'.split())\n",
    "        output = output.decode('utf-8')\n",
    "        profiles = [p.strip() for p in [o for o in output.split('User profiles\\r\\n-------------\\r\\n    ')][1]\n",
    "                    .split('All User Profile     : ')]\n",
    "        profiles = [p for p in profiles if p != '']\n",
    "        return profiles\n",
    "    \n",
    "    def profile_info(self, profile):\n",
    "        try:\n",
    "            cmd_list = ['netsh', 'wlan', 'show', 'profile', profile, 'key=clear']\n",
    "            output = subprocess.check_output(cmd_list)\n",
    "            output = output.decode('utf-8').replace('\\r','')\n",
    "        except:\n",
    "            output = None\n",
    "        return output\n",
    "    \n",
    "    def find_passwords(self):\n",
    "        d = {}\n",
    "        for profile in self.profiles:\n",
    "            output = self.profile_info(profile)\n",
    "            if output is not None:\n",
    "                d.update({profile:[line.split(': ')[1] for line in output.split('\\n') if 'Key Content' in line][0]})\n",
    "        self.passwords = d\n",
    "        return d\n",
    "    def save_result(self):\n",
    "        file_name = 'results.txt'\n",
    "        with open('results.json', 'w') as f:\n",
    "            json.dump(self.passwords, f)"
   ]
  },
  {
   "cell_type": "code",
   "execution_count": 21,
   "metadata": {},
   "outputs": [],
   "source": [
    "w = Wify()"
   ]
  },
  {
   "cell_type": "code",
   "execution_count": 11,
   "metadata": {},
   "outputs": [],
   "source": [
    "import json"
   ]
  },
  {
   "cell_type": "code",
   "execution_count": null,
   "metadata": {},
   "outputs": [],
   "source": []
  },
  {
   "cell_type": "code",
   "execution_count": 24,
   "metadata": {},
   "outputs": [
    {
     "ename": "ModuleNotFoundError",
     "evalue": "No module named 'pyinstaller'",
     "output_type": "error",
     "traceback": [
      "\u001b[1;31m---------------------------------------------------------------------------\u001b[0m",
      "\u001b[1;31mModuleNotFoundError\u001b[0m                       Traceback (most recent call last)",
      "\u001b[1;32m<ipython-input-24-e8950ad1a29d>\u001b[0m in \u001b[0;36m<module>\u001b[1;34m\u001b[0m\n\u001b[1;32m----> 1\u001b[1;33m \u001b[1;32mimport\u001b[0m \u001b[0mpyinstaller\u001b[0m\u001b[1;33m\u001b[0m\u001b[1;33m\u001b[0m\u001b[0m\n\u001b[0m",
      "\u001b[1;31mModuleNotFoundError\u001b[0m: No module named 'pyinstaller'"
     ]
    }
   ],
   "source": [
    "import pyinstaller"
   ]
  },
  {
   "cell_type": "code",
   "execution_count": 42,
   "metadata": {},
   "outputs": [
    {
     "name": "stdout",
     "output_type": "stream",
     "text": [
      "Requirement already satisfied: pyinstaller in c:\\users\\santo\\appdata\\local\\continuum\\anaconda3\\lib\\site-packages (3.5)\n",
      "Requirement already satisfied: pefile>=2017.8.1 in c:\\users\\santo\\appdata\\local\\continuum\\anaconda3\\lib\\site-packages (from pyinstaller) (2019.4.18)\n",
      "Requirement already satisfied: pywin32-ctypes>=0.2.0 in c:\\users\\santo\\appdata\\local\\continuum\\anaconda3\\lib\\site-packages (from pyinstaller) (0.2.0)\n",
      "Requirement already satisfied: setuptools in c:\\users\\santo\\appdata\\local\\continuum\\anaconda3\\lib\\site-packages (from pyinstaller) (46.1.3)\n",
      "Requirement already satisfied: altgraph in c:\\users\\santo\\appdata\\local\\continuum\\anaconda3\\lib\\site-packages (from pyinstaller) (0.16.1)\n",
      "Requirement already satisfied: future in c:\\users\\santo\\appdata\\local\\continuum\\anaconda3\\lib\\site-packages (from pefile>=2017.8.1->pyinstaller) (0.17.1)\n"
     ]
    }
   ],
   "source": [
    "!pip install pyinstaller"
   ]
  },
  {
   "cell_type": "code",
   "execution_count": 41,
   "metadata": {},
   "outputs": [
    {
     "name": "stdout",
     "output_type": "stream",
     "text": [
      "Collecting pip\n",
      "  Downloading pip-20.1.1-py2.py3-none-any.whl (1.5 MB)\n",
      "Installing collected packages: pip\n",
      "  Attempting uninstall: pip\n",
      "    Found existing installation: pip 20.0.2\n",
      "    Uninstalling pip-20.0.2:\n",
      "      Successfully uninstalled pip-20.0.2\n"
     ]
    },
    {
     "name": "stderr",
     "output_type": "stream",
     "text": [
      "ERROR: Could not install packages due to an EnvironmentError: [WinError 5] Access is denied: 'C:\\\\Users\\\\santo\\\\AppData\\\\Local\\\\Temp\\\\pip-uninstall-5h3n6xjd\\\\pip.exe'\n",
      "Consider using the `--user` option or check the permissions.\n",
      "\n"
     ]
    }
   ],
   "source": [
    "! pip install --upgrade pip"
   ]
  },
  {
   "cell_type": "code",
   "execution_count": 53,
   "metadata": {},
   "outputs": [],
   "source": [
    "def ipconfig():\n",
    "    out = subprocess.check_output(['ipconfig','/all'])\n",
    "    with open('ipconfig.cfg', 'wb') as f:\n",
    "        f.write(out)"
   ]
  },
  {
   "cell_type": "code",
   "execution_count": null,
   "metadata": {},
   "outputs": [],
   "source": []
  },
  {
   "cell_type": "code",
   "execution_count": 58,
   "metadata": {},
   "outputs": [
    {
     "name": "stdout",
     "output_type": "stream",
     "text": [
      "Requirement already satisfied: scapy in c:\\users\\santo\\appdata\\local\\continuum\\anaconda3\\lib\\site-packages (2.4.3)\n"
     ]
    }
   ],
   "source": [
    "# packet manipulation tool\n",
    "!pip install scapy"
   ]
  },
  {
   "cell_type": "code",
   "execution_count": 60,
   "metadata": {},
   "outputs": [
    {
     "name": "stdout",
     "output_type": "stream",
     "text": [
      "Help on package scapy:\n",
      "\n",
      "NAME\n",
      "    scapy - Scapy: create, send, sniff, dissect and manipulate network packets.\n",
      "\n",
      "DESCRIPTION\n",
      "    Usable either from an interactive console or as a Python library.\n",
      "    http://www.secdev.org/projects/scapy\n",
      "\n",
      "PACKAGE CONTENTS\n",
      "    __main__\n",
      "    all\n",
      "    ansmachine\n",
      "    arch (package)\n",
      "    as_resolvers\n",
      "    asn1 (package)\n",
      "    asn1fields\n",
      "    asn1packet\n",
      "    automaton\n",
      "    autorun\n",
      "    base_classes\n",
      "    compat\n",
      "    config\n",
      "    consts\n",
      "    contrib (package)\n",
      "    dadict\n",
      "    data\n",
      "    error\n",
      "    extlib\n",
      "    fields\n",
      "    layers (package)\n",
      "    main\n",
      "    modules (package)\n",
      "    packet\n",
      "    pipetool\n",
      "    plist\n",
      "    pton_ntop\n",
      "    route\n",
      "    route6\n",
      "    scapypipes\n",
      "    sendrecv\n",
      "    sessions\n",
      "    supersocket\n",
      "    themes\n",
      "    tools (package)\n",
      "    utils\n",
      "    utils6\n",
      "    volatile\n",
      "\n",
      "DATA\n",
      "    VERSION = '2.4.3'\n",
      "    VERSION_MAIN = '2.4.3'\n",
      "\n",
      "VERSION\n",
      "    2.4.3\n",
      "\n",
      "FILE\n",
      "    c:\\users\\santo\\appdata\\local\\continuum\\anaconda3\\lib\\site-packages\\scapy\\__init__.py\n",
      "\n",
      "\n"
     ]
    }
   ],
   "source": [
    "import scapy\n",
    "help(scapy)"
   ]
  },
  {
   "cell_type": "code",
   "execution_count": 61,
   "metadata": {},
   "outputs": [
    {
     "data": {
      "text/plain": [
       "['VERSION',\n",
       " 'VERSION_MAIN',\n",
       " '_SCAPY_PKG_DIR',\n",
       " '__builtins__',\n",
       " '__cached__',\n",
       " '__doc__',\n",
       " '__file__',\n",
       " '__loader__',\n",
       " '__name__',\n",
       " '__package__',\n",
       " '__path__',\n",
       " '__spec__',\n",
       " '__version__',\n",
       " '_version',\n",
       " '_version_from_git_describe',\n",
       " 'os',\n",
       " 're',\n",
       " 'subprocess']"
      ]
     },
     "execution_count": 61,
     "metadata": {},
     "output_type": "execute_result"
    }
   ],
   "source": [
    "dir(scapy)"
   ]
  },
  {
   "cell_type": "code",
   "execution_count": 63,
   "metadata": {},
   "outputs": [
    {
     "name": "stdout",
     "output_type": "stream",
     "text": [
      "Collecting pyinstaller\n",
      "  Downloading PyInstaller-3.6.tar.gz (3.5 MB)\n",
      "  Installing build dependencies: started\n",
      "  Installing build dependencies: finished with status 'done'\n",
      "  Getting requirements to build wheel: started\n",
      "  Getting requirements to build wheel: finished with status 'done'\n",
      "    Preparing wheel metadata: started\n",
      "    Preparing wheel metadata: finished with status 'done'\n",
      "Requirement already satisfied, skipping upgrade: altgraph in c:\\users\\santo\\appdata\\local\\continuum\\anaconda3\\lib\\site-packages (from pyinstaller) (0.16.1)\n",
      "Requirement already satisfied, skipping upgrade: setuptools in c:\\users\\santo\\appdata\\local\\continuum\\anaconda3\\lib\\site-packages (from pyinstaller) (46.1.3)\n",
      "Requirement already satisfied, skipping upgrade: pefile>=2017.8.1 in c:\\users\\santo\\appdata\\local\\continuum\\anaconda3\\lib\\site-packages (from pyinstaller) (2019.4.18)\n",
      "Requirement already satisfied, skipping upgrade: pywin32-ctypes>=0.2.0 in c:\\users\\santo\\appdata\\local\\continuum\\anaconda3\\lib\\site-packages (from pyinstaller) (0.2.0)\n",
      "Requirement already satisfied, skipping upgrade: future in c:\\users\\santo\\appdata\\local\\continuum\\anaconda3\\lib\\site-packages (from pefile>=2017.8.1->pyinstaller) (0.17.1)\n",
      "Building wheels for collected packages: pyinstaller\n",
      "  Building wheel for pyinstaller (PEP 517): started\n",
      "  Building wheel for pyinstaller (PEP 517): finished with status 'done'\n",
      "  Created wheel for pyinstaller: filename=PyInstaller-3.6-py3-none-any.whl size=2926582 sha256=60945e7400d4d8c6874e54f131ae616f7b67574d02ed8c47bb39d5f8ba0bb2ee\n",
      "  Stored in directory: c:\\users\\santo\\appdata\\local\\pip\\cache\\wheels\\ff\\cf\\00\\f1b22a6ca2466b6160512395cfd3e521b9c4219f588de34322\n",
      "Successfully built pyinstaller\n",
      "Installing collected packages: pyinstaller\n",
      "  Attempting uninstall: pyinstaller\n",
      "    Found existing installation: PyInstaller 3.5\n",
      "    Uninstalling PyInstaller-3.5:\n",
      "      Successfully uninstalled PyInstaller-3.5\n",
      "Successfully installed pyinstaller-3.6\n"
     ]
    }
   ],
   "source": [
    "!pip install -U pyinstaller"
   ]
  },
  {
   "cell_type": "code",
   "execution_count": null,
   "metadata": {},
   "outputs": [],
   "source": []
  }
 ],
 "metadata": {
  "kernelspec": {
   "display_name": "Python 3",
   "language": "python",
   "name": "python3"
  },
  "language_info": {
   "codemirror_mode": {
    "name": "ipython",
    "version": 3
   },
   "file_extension": ".py",
   "mimetype": "text/x-python",
   "name": "python",
   "nbconvert_exporter": "python",
   "pygments_lexer": "ipython3",
   "version": "3.7.3"
  }
 },
 "nbformat": 4,
 "nbformat_minor": 2
}
