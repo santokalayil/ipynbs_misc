{
 "cells": [
  {
   "cell_type": "code",
   "execution_count": 9,
   "metadata": {},
   "outputs": [],
   "source": [
    "from socket import gethostbyname, gethostbyaddr, setdefaulttimeout\n",
    "from threading import Thread"
   ]
  },
  {
   "cell_type": "code",
   "execution_count": 3,
   "metadata": {},
   "outputs": [
    {
     "data": {
      "text/plain": [
       "'148.72.23.73'"
      ]
     },
     "execution_count": 3,
     "metadata": {},
     "output_type": "execute_result"
    }
   ],
   "source": [
    "gethostbyname('pathanamthittadiocese.com')"
   ]
  },
  {
   "cell_type": "code",
   "execution_count": 5,
   "metadata": {},
   "outputs": [
    {
     "data": {
      "text/plain": [
       "('ip-148-72-23-73.ip.secureserver.net', [], ['148.72.23.73'])"
      ]
     },
     "execution_count": 5,
     "metadata": {},
     "output_type": "execute_result"
    }
   ],
   "source": [
    "gethostbyaddr('148.72.23.73')"
   ]
  },
  {
   "cell_type": "code",
   "execution_count": 6,
   "metadata": {},
   "outputs": [
    {
     "data": {
      "text/plain": [
       "'ip-148-72-23-73.ip.secureserver.net'"
      ]
     },
     "execution_count": 6,
     "metadata": {},
     "output_type": "execute_result"
    }
   ],
   "source": [
    "gethostbyaddr('148.72.23.73')[0]"
   ]
  },
  {
   "cell_type": "code",
   "execution_count": 8,
   "metadata": {},
   "outputs": [],
   "source": [
    "setdefaulttimeout(1)"
   ]
  },
  {
   "cell_type": "code",
   "execution_count": null,
   "metadata": {},
   "outputs": [],
   "source": []
  },
  {
   "cell_type": "code",
   "execution_count": null,
   "metadata": {},
   "outputs": [],
   "source": []
  },
  {
   "cell_type": "code",
   "execution_count": 41,
   "metadata": {},
   "outputs": [
    {
     "name": "stdout",
     "output_type": "stream",
     "text": [
      "Target IP is 148.72.23.73 (pathanamthittadiocese.com)\n",
      "[+] Scan Results for: ip-148-72-23-73.ip.secureserver.net\n",
      "\u001b[32m[-] 1 TCP Closed\u001b[0m\n",
      "\u001b[32m[-] 2 TCP Closed\u001b[0m\n",
      "\u001b[32m[-] 80 TCP Closed\u001b[0m\n"
     ]
    }
   ],
   "source": [
    "from socket import (gethostbyname, gethostbyaddr, setdefaulttimeout,\n",
    "                   socket,AF_INET, SOCK_STREAM)\n",
    "from threading import Thread\n",
    "from termcolor import colored\n",
    "\n",
    "\n",
    "def connScan(tgtHost, tgtPort):\n",
    "    \n",
    "    try:\n",
    "        sock = socket(AF_INET, SOCK_STREAM)\n",
    "        sock.connect((tgtHost, tgtPort))\n",
    "        print(colored(f'[+] {tgtPort} TCP Open', 'red'))\n",
    "    except:\n",
    "        print(colored(f'[-] {tgtPort} TCP Closed','green'))\n",
    "    finally:\n",
    "        sock.close()\n",
    "        #result = str(','.join(open_ports))\n",
    "        #with open('results.txt', 'w') as f:f.write(results)\n",
    "\n",
    "def portScan(tgtHost, tgtPorts):\n",
    "    try:\n",
    "        tgtIP = gethostbyname(tgtHost)\n",
    "        print(f'Target IP is {tgtIP} ({tgtHost})')\n",
    "    except:\n",
    "        print(f'Unknown Host {tgtHost}')\n",
    "        # if error hhere. how to exit?\n",
    "    \n",
    "    try:\n",
    "        tgtName = gethostbyaddr(tgtIP)\n",
    "        print(f'[+] Scan Results for: {tgtName[0]}')\n",
    "    except:\n",
    "        print(f'[+] Scan Results for: {tgtIP}')\n",
    "        \n",
    "    setdefaulttimeout(1)\n",
    "    threads = []\n",
    "    for tgtPort in tgtPorts:\n",
    "        t = Thread(target = connScan, args=(tgtHost, int(tgtPort)))\n",
    "        t.start()\n",
    "        threads.append(t)\n",
    "        \n",
    "    return threads\n",
    "        \n",
    "        \n",
    "threads = portScan('pathanamthittadiocese.com',['1','2','80'])"
   ]
  },
  {
   "cell_type": "code",
   "execution_count": 45,
   "metadata": {},
   "outputs": [],
   "source": [
    "for process in threads:\n",
    "    process.join()"
   ]
  },
  {
   "cell_type": "code",
   "execution_count": 47,
   "metadata": {},
   "outputs": [
    {
     "data": {
      "text/plain": [
       "['__class__',\n",
       " '__delattr__',\n",
       " '__dict__',\n",
       " '__dir__',\n",
       " '__doc__',\n",
       " '__eq__',\n",
       " '__format__',\n",
       " '__ge__',\n",
       " '__getattribute__',\n",
       " '__gt__',\n",
       " '__hash__',\n",
       " '__init__',\n",
       " '__init_subclass__',\n",
       " '__le__',\n",
       " '__lt__',\n",
       " '__module__',\n",
       " '__ne__',\n",
       " '__new__',\n",
       " '__reduce__',\n",
       " '__reduce_ex__',\n",
       " '__repr__',\n",
       " '__setattr__',\n",
       " '__sizeof__',\n",
       " '__str__',\n",
       " '__subclasshook__',\n",
       " '__weakref__',\n",
       " '_bootstrap',\n",
       " '_bootstrap_inner',\n",
       " '_daemonic',\n",
       " '_delete',\n",
       " '_ident',\n",
       " '_initialized',\n",
       " '_invoke_excepthook',\n",
       " '_is_stopped',\n",
       " '_name',\n",
       " '_native_id',\n",
       " '_reset_internal_locks',\n",
       " '_set_ident',\n",
       " '_set_native_id',\n",
       " '_set_tstate_lock',\n",
       " '_started',\n",
       " '_stderr',\n",
       " '_stop',\n",
       " '_tstate_lock',\n",
       " '_wait_for_tstate_lock',\n",
       " 'daemon',\n",
       " 'getName',\n",
       " 'ident',\n",
       " 'isAlive',\n",
       " 'isDaemon',\n",
       " 'is_alive',\n",
       " 'join',\n",
       " 'name',\n",
       " 'native_id',\n",
       " 'run',\n",
       " 'setDaemon',\n",
       " 'setName',\n",
       " 'start']"
      ]
     },
     "execution_count": 47,
     "metadata": {},
     "output_type": "execute_result"
    }
   ],
   "source": [
    "dir(process)"
   ]
  },
  {
   "cell_type": "code",
   "execution_count": 24,
   "metadata": {},
   "outputs": [
    {
     "name": "stdout",
     "output_type": "stream",
     "text": [
      "starting PortScan Function\n",
      "Target IP is 148.72.23.73 (148.72.23.73)\n",
      "[+] Scan Results for: ip-148-72-23-73.ip.secureserver.net\n",
      "\u001b[32m[-] 1 TCP Closed\u001b[0m\n",
      "\u001b[32m[-] 2 TCP Closed\u001b[0m\n",
      "\u001b[31m[+] 80 TCP Open\u001b[0m\n"
     ]
    }
   ],
   "source": [
    "! python3 advanced_port_scanner.py -H 148.72.23.73 -p 1,2,80"
   ]
  },
  {
   "cell_type": "code",
   "execution_count": 25,
   "metadata": {},
   "outputs": [
    {
     "name": "stdout",
     "output_type": "stream",
     "text": [
      "Target IP is 148.72.23.73 (pathanamthittadiocese.com)\n",
      "[+] Scan Results for: ip-148-72-23-73.ip.secureserver.net\n",
      "\u001b[32m[-] 2 TCP Closed\u001b[0m\n",
      "\u001b[31m[+] 80 TCP Open\u001b[0m\n",
      "\u001b[32m[-] 1 TCP Closed\u001b[0m\n"
     ]
    }
   ],
   "source": [
    "! python3 advanced_port_scanner.py -H pathanamthittadiocese.com -p 1,2,80"
   ]
  },
  {
   "cell_type": "code",
   "execution_count": 26,
   "metadata": {},
   "outputs": [
    {
     "name": "stdout",
     "output_type": "stream",
     "text": [
      "Server:\t\t192.168.43.1\n",
      "Address:\t192.168.43.1#53\n",
      "\n",
      "Non-authoritative answer:\n",
      "Name:\tpathanamthittadiocese.com\n",
      "Address: 148.72.23.73\n",
      "\n"
     ]
    }
   ],
   "source": [
    "! nslookup pathanamthittadiocese.com"
   ]
  },
  {
   "cell_type": "code",
   "execution_count": 27,
   "metadata": {},
   "outputs": [
    {
     "ename": "NameError",
     "evalue": "name 'ports' is not defined",
     "output_type": "error",
     "traceback": [
      "\u001b[0;31m---------------------------------------------------------------------------\u001b[0m",
      "\u001b[0;31mNameError\u001b[0m                                 Traceback (most recent call last)",
      "\u001b[0;32m<ipython-input-27-29177fee150f>\u001b[0m in \u001b[0;36m<module>\u001b[0;34m\u001b[0m\n\u001b[0;32m----> 1\u001b[0;31m \u001b[0mports\u001b[0m\u001b[0;34m\u001b[0m\u001b[0;34m\u001b[0m\u001b[0m\n\u001b[0m",
      "\u001b[0;31mNameError\u001b[0m: name 'ports' is not defined"
     ]
    }
   ],
   "source": [
    "ports"
   ]
  },
  {
   "cell_type": "code",
   "execution_count": 28,
   "metadata": {},
   "outputs": [
    {
     "name": "stdout",
     "output_type": "stream",
     "text": [
      "Target IP is 148.72.23.73 (pathanamthittadiocese.com)\n",
      "[+] Scan Results for: ip-148-72-23-73.ip.secureserver.net\n",
      "\u001b[31m[+] 22 TCP Open\u001b[0m\u001b[31m[+] 110 TCP Open\u001b[0m\n",
      "\u001b[31m[+] 465 TCP Open\u001b[0m\n",
      "\u001b[31m[+] 53 TCP Open\u001b[0m\n",
      "\u001b[31m[+] 993 TCP Open\u001b[0m\n",
      "\u001b[31m[+] 111 TCP Open\u001b[0m\n",
      "\u001b[31m[+] 25 TCP Open\u001b[0m\n",
      "\n",
      "\u001b[31m[+] 443 TCP Open\u001b[0m\u001b[31m[+] 21 TCP Open\u001b[0m\n",
      "\u001b[31m[+] 143 TCP Open\u001b[0m\n",
      "\n",
      "\u001b[31m[+] 80 TCP Open\u001b[0m\n",
      "\u001b[31m[+] 587 TCP Open\u001b[0m\n",
      "\u001b[31m[+] 995 TCP Open\u001b[0m\n"
     ]
    }
   ],
   "source": [
    "portScan('pathanamthittadiocese.com',[21, 22, 25, 53, 80, 110, 111, 143, 443, 465, 587, 993, 995])"
   ]
  },
  {
   "cell_type": "code",
   "execution_count": null,
   "metadata": {},
   "outputs": [],
   "source": []
  }
 ],
 "metadata": {
  "kernelspec": {
   "display_name": "Python 3",
   "language": "python",
   "name": "python3"
  },
  "language_info": {
   "codemirror_mode": {
    "name": "ipython",
    "version": 3
   },
   "file_extension": ".py",
   "mimetype": "text/x-python",
   "name": "python",
   "nbconvert_exporter": "python",
   "pygments_lexer": "ipython3",
   "version": "3.8.3"
  }
 },
 "nbformat": 4,
 "nbformat_minor": 4
}
