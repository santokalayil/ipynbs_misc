{
 "cells": [
  {
   "cell_type": "code",
   "execution_count": 2,
   "metadata": {},
   "outputs": [
    {
     "name": "stdout",
     "output_type": "stream",
     "text": [
      "eth0: flags=4099<UP,BROADCAST,MULTICAST>  mtu 1500\r\n",
      "        ether 24:b6:fd:30:63:51  txqueuelen 1000  (Ethernet)\r\n",
      "        RX packets 0  bytes 0 (0.0 B)\r\n",
      "        RX errors 0  dropped 0  overruns 0  frame 0\r\n",
      "        TX packets 0  bytes 0 (0.0 B)\r\n",
      "        TX errors 0  dropped 0 overruns 0  carrier 0  collisions 0\r\n",
      "\r\n",
      "lo: flags=73<UP,LOOPBACK,RUNNING>  mtu 65536\r\n",
      "        inet 127.0.0.1  netmask 255.0.0.0\r\n",
      "        inet6 ::1  prefixlen 128  scopeid 0x10<host>\r\n",
      "        loop  txqueuelen 1000  (Local Loopback)\r\n",
      "        RX packets 16416  bytes 38395211 (36.6 MiB)\r\n",
      "        RX errors 0  dropped 0  overruns 0  frame 0\r\n",
      "        TX packets 16416  bytes 38395211 (36.6 MiB)\r\n",
      "        TX errors 0  dropped 0 overruns 0  carrier 0  collisions 0\r\n",
      "\r\n",
      "wlan0: flags=4163<UP,BROADCAST,RUNNING,MULTICAST>  mtu 1500\r\n",
      "        inet 192.168.43.185  netmask 255.255.255.0  broadcast 192.168.43.255\r\n",
      "        inet6 fe80::c4ef:3188:d31e:e784  prefixlen 64  scopeid 0x20<link>\r\n",
      "        ether e4:d5:3d:77:28:97  txqueuelen 1000  (Ethernet)\r\n",
      "        RX packets 244207  bytes 314131375 (299.5 MiB)\r\n",
      "        RX errors 0  dropped 1  overruns 0  frame 0\r\n",
      "        TX packets 142163  bytes 33214976 (31.6 MiB)\r\n",
      "        TX errors 0  dropped 0 overruns 0  carrier 0  collisions 0\r\n",
      "\r\n"
     ]
    }
   ],
   "source": [
    "! ifconfig"
   ]
  },
  {
   "cell_type": "code",
   "execution_count": 4,
   "metadata": {},
   "outputs": [
    {
     "name": "stdout",
     "output_type": "stream",
     "text": [
      "Starting Nmap 7.80 ( https://nmap.org ) at 2020-08-01 14:04 IST\n",
      "Nmap scan report for santa (192.168.43.185)\n",
      "Host is up (0.00011s latency).\n",
      "All 1000 scanned ports on santa (192.168.43.185) are closed\n",
      "\n",
      "Nmap done: 1 IP address (1 host up) scanned in 0.14 seconds\n"
     ]
    }
   ],
   "source": [
    "! nmap 192.168.43.185"
   ]
  },
  {
   "cell_type": "code",
   "execution_count": 6,
   "metadata": {},
   "outputs": [],
   "source": [
    "# The same can be done in Python as well"
   ]
  },
  {
   "cell_type": "markdown",
   "metadata": {},
   "source": [
    "# Portscanner.py"
   ]
  },
  {
   "cell_type": "code",
   "execution_count": 1,
   "metadata": {},
   "outputs": [],
   "source": [
    "#! /usr/bin/python3\n",
    "import socket"
   ]
  },
  {
   "cell_type": "code",
   "execution_count": 26,
   "metadata": {},
   "outputs": [],
   "source": [
    "sock = socket.socket(socket.AF_INET, socket.SOCK_STREAM)"
   ]
  },
  {
   "cell_type": "code",
   "execution_count": 7,
   "metadata": {},
   "outputs": [],
   "source": [
    "host = \"192.168.43.185\"; port = 80"
   ]
  },
  {
   "cell_type": "code",
   "execution_count": 42,
   "metadata": {},
   "outputs": [],
   "source": [
    "def portscanner(port):\n",
    "    import socket\n",
    "    sock = socket.socket(socket.AF_INET, socket.SOCK_STREAM) \n",
    "    socket.setdefaulttimeout(1) # not to hang on certain port we use timeout here we give 1 seconds\n",
    "    global host\n",
    "    if sock.connect_ex((host,port)):\n",
    "        #print(f\"Port {port} is closed!\")\n",
    "        return False\n",
    "    else:\n",
    "        print(f\"Port {port} is open...\")\n",
    "        return True"
   ]
  },
  {
   "cell_type": "code",
   "execution_count": 46,
   "metadata": {},
   "outputs": [
    {
     "name": "stdout",
     "output_type": "stream",
     "text": [
      "Port 80 is open...\n"
     ]
    },
    {
     "data": {
      "text/plain": [
       "True"
      ]
     },
     "execution_count": 46,
     "metadata": {},
     "output_type": "execute_result"
    }
   ],
   "source": [
    "host = \"148.72.23.73\"\n",
    "portscanner(80)"
   ]
  },
  {
   "cell_type": "markdown",
   "metadata": {},
   "source": [
    "## To execute python file run 'chmod +x filename.py' then './filename.py'"
   ]
  },
  {
   "cell_type": "code",
   "execution_count": 30,
   "metadata": {
    "scrolled": true
   },
   "outputs": [
    {
     "name": "stdout",
     "output_type": "stream",
     "text": [
      "Port 21 is open...\n",
      "Port 22 is open...\n",
      "Port 25 is open...\n",
      "Port 53 is open...\n",
      "Port 80 is open...\n",
      "Port 110 is open...\n",
      "Port 111 is open...\n",
      "Port 143 is open...\n",
      "Port 443 is open...\n",
      "Port 465 is open...\n",
      "Port 587 is open...\n",
      "Port 993 is open...\n",
      "Port 995 is open...\n"
     ]
    }
   ],
   "source": [
    "#fn = lambda x: socket.socket(socket.AF_INET, socket.SOCK_STREAM).connect_ex((host,x))\n",
    "ports = [port for port in range(1,1000) if portscanner(port)]"
   ]
  },
  {
   "cell_type": "code",
   "execution_count": 31,
   "metadata": {},
   "outputs": [
    {
     "data": {
      "text/plain": [
       "[21, 22, 25, 53, 80, 110, 111, 143, 443, 465, 587, 993, 995]"
      ]
     },
     "execution_count": 31,
     "metadata": {},
     "output_type": "execute_result"
    }
   ],
   "source": [
    "ports "
   ]
  },
  {
   "cell_type": "code",
   "execution_count": 32,
   "metadata": {},
   "outputs": [
    {
     "name": "stdout",
     "output_type": "stream",
     "text": [
      "Starting Nmap 7.80 ( https://nmap.org ) at 2020-08-01 15:45 IST\n",
      "Nmap scan report for ip-148-72-23-73.ip.secureserver.net (148.72.23.73)\n",
      "Host is up (0.38s latency).\n",
      "Not shown: 967 closed ports\n",
      "PORT      STATE    SERVICE\n",
      "21/tcp    open     ftp\n",
      "22/tcp    open     ssh\n",
      "25/tcp    open     smtp\n",
      "53/tcp    open     domain\n",
      "80/tcp    open     http\n",
      "110/tcp   open     pop3\n",
      "111/tcp   open     rpcbind\n",
      "143/tcp   open     imap\n",
      "443/tcp   open     https\n",
      "465/tcp   open     smtps\n",
      "513/tcp   filtered login\n",
      "587/tcp   open     submission\n",
      "993/tcp   open     imaps\n",
      "995/tcp   open     pop3s\n",
      "1045/tcp  filtered fpitp\n",
      "1080/tcp  filtered socks\n",
      "1083/tcp  filtered ansoft-lm-1\n",
      "1352/tcp  filtered lotusnotes\n",
      "2045/tcp  filtered cdfunc\n",
      "2119/tcp  filtered gsigatekeeper\n",
      "3011/tcp  filtered trusted-web\n",
      "3306/tcp  open     mysql\n",
      "3325/tcp  filtered active-net\n",
      "4000/tcp  filtered remoteanything\n",
      "4129/tcp  filtered nuauth\n",
      "5903/tcp  filtered vnc-3\n",
      "8021/tcp  filtered ftp-proxy\n",
      "18988/tcp filtered unknown\n",
      "25734/tcp filtered unknown\n",
      "30000/tcp filtered ndmps\n",
      "41511/tcp filtered unknown\n",
      "49160/tcp filtered unknown\n",
      "56738/tcp filtered unknown\n",
      "\n",
      "Nmap done: 1 IP address (1 host up) scanned in 273.95 seconds\n"
     ]
    }
   ],
   "source": [
    "! nmap 148.72.23.73"
   ]
  },
  {
   "cell_type": "code",
   "execution_count": 35,
   "metadata": {},
   "outputs": [
    {
     "name": "stdout",
     "output_type": "stream",
     "text": [
      "total 12\n",
      "-rw-r--r-- 1 santokalayil santokalayil 8496 Aug  1 15:50 Nmap like Port scanner.ipynb\n",
      "\n"
     ]
    }
   ],
   "source": [
    "import subprocess\n",
    "result = subprocess.run(['ls', '-l'], stdout=subprocess.PIPE)\n",
    "print(result.stdout.decode())"
   ]
  },
  {
   "cell_type": "code",
   "execution_count": 36,
   "metadata": {},
   "outputs": [
    {
     "name": "stdout",
     "output_type": "stream",
     "text": [
      "Starting Nmap 7.80 ( https://nmap.org ) at 2020-08-01 15:53 IST\n",
      "Nmap scan report for ip-148-72-23-73.ip.secureserver.net (148.72.23.73)\n",
      "Host is up (0.38s latency).\n",
      "Not shown: 965 closed ports\n",
      "PORT      STATE    SERVICE\n",
      "21/tcp    open     ftp\n",
      "22/tcp    open     ssh\n",
      "25/tcp    open     smtp\n",
      "33/tcp    filtered dsp\n",
      "53/tcp    open     domain\n",
      "80/tcp    open     http\n",
      "89/tcp    filtered su-mit-tg\n",
      "110/tcp   open     pop3\n",
      "111/tcp   open     rpcbind\n",
      "143/tcp   open     imap\n",
      "163/tcp   filtered cmip-man\n",
      "443/tcp   open     https\n",
      "444/tcp   filtered snpp\n",
      "465/tcp   open     smtps\n",
      "548/tcp   filtered afp\n",
      "587/tcp   open     submission\n",
      "993/tcp   open     imaps\n",
      "995/tcp   open     pop3s\n",
      "1105/tcp  filtered ftranhc\n",
      "1108/tcp  filtered ratio-adp\n",
      "1840/tcp  filtered netopia-vo2\n",
      "2260/tcp  filtered apc-2260\n",
      "3306/tcp  open     mysql\n",
      "3371/tcp  filtered satvid-datalnk\n",
      "4006/tcp  filtered pxc-spvr\n",
      "4550/tcp  filtered gds-adppiw-db\n",
      "5432/tcp  filtered postgresql\n",
      "6100/tcp  filtered synchronet-db\n",
      "6502/tcp  filtered netop-rc\n",
      "9100/tcp  filtered jetdirect\n",
      "14441/tcp filtered unknown\n",
      "28201/tcp filtered unknown\n",
      "30000/tcp filtered ndmps\n",
      "40193/tcp filtered unknown\n",
      "49999/tcp filtered unknown\n",
      "\n",
      "Nmap done: 1 IP address (1 host up) scanned in 261.04 seconds\n",
      "\n"
     ]
    }
   ],
   "source": [
    "import subprocess\n",
    "result = subprocess.run(['nmap', '148.72.23.73'], stdout=subprocess.PIPE)\n",
    "print(result.stdout.decode())"
   ]
  },
  {
   "cell_type": "code",
   "execution_count": 48,
   "metadata": {},
   "outputs": [],
   "source": [
    "from termcolor import colored # useful for terminal only\n",
    "def portscanner(port):\n",
    "    import socket\n",
    "    sock = socket.socket(socket.AF_INET, socket.SOCK_STREAM) \n",
    "    socket.setdefaulttimeout(1) # not to hang on certain port we use timeout here we give 1 seconds\n",
    "    global host\n",
    "    if sock.connect_ex((host,port)):\n",
    "        print(colored(f\"Port {port} is closed!\"),'green')\n",
    "        return False\n",
    "    else:\n",
    "        print(colored(f\"Port {port} is open...\", 'red'))\n",
    "        return True"
   ]
  },
  {
   "cell_type": "code",
   "execution_count": 49,
   "metadata": {},
   "outputs": [
    {
     "name": "stdout",
     "output_type": "stream",
     "text": [
      "Port 10 is closed!\n",
      "Port 11 is closed!\n",
      "Port 12 is closed!\n",
      "Port 13 is closed!\n",
      "Port 14 is closed!\n",
      "Port 15 is closed!\n",
      "Port 16 is closed!\n",
      "Port 17 is closed!\n",
      "Port 18 is closed!\n",
      "Port 19 is closed!\n",
      "Port 20 is closed!\n",
      "\u001b[31mPort 21 is open...\u001b[0m\n",
      "\u001b[31mPort 22 is open...\u001b[0m\n",
      "Port 23 is closed!\n",
      "Port 24 is closed!\n",
      "\u001b[31mPort 25 is open...\u001b[0m\n",
      "Port 26 is closed!\n",
      "Port 27 is closed!\n",
      "Port 28 is closed!\n",
      "Port 29 is closed!\n",
      "Port 30 is closed!\n",
      "Port 31 is closed!\n",
      "Port 32 is closed!\n",
      "Port 33 is closed!\n",
      "Port 34 is closed!\n",
      "Port 35 is closed!\n",
      "Port 36 is closed!\n",
      "Port 37 is closed!\n",
      "Port 38 is closed!\n",
      "Port 39 is closed!\n",
      "Port 40 is closed!\n",
      "Port 41 is closed!\n",
      "Port 42 is closed!\n",
      "Port 43 is closed!\n",
      "Port 44 is closed!\n",
      "Port 45 is closed!\n",
      "Port 46 is closed!\n",
      "Port 47 is closed!\n",
      "Port 48 is closed!\n",
      "Port 49 is closed!\n",
      "Port 50 is closed!\n",
      "Port 51 is closed!\n",
      "Port 52 is closed!\n",
      "\u001b[31mPort 53 is open...\u001b[0m\n",
      "Port 54 is closed!\n",
      "Port 55 is closed!\n",
      "Port 56 is closed!\n",
      "Port 57 is closed!\n",
      "Port 58 is closed!\n",
      "Port 59 is closed!\n",
      "Port 60 is closed!\n",
      "Port 61 is closed!\n",
      "Port 62 is closed!\n",
      "Port 63 is closed!\n",
      "Port 64 is closed!\n",
      "Port 65 is closed!\n",
      "Port 66 is closed!\n",
      "Port 67 is closed!\n",
      "Port 68 is closed!\n",
      "Port 69 is closed!\n",
      "Port 70 is closed!\n",
      "Port 71 is closed!\n",
      "Port 72 is closed!\n",
      "Port 73 is closed!\n",
      "Port 74 is closed!\n",
      "Port 75 is closed!\n",
      "Port 76 is closed!\n",
      "Port 77 is closed!\n",
      "Port 78 is closed!\n",
      "Port 79 is closed!\n",
      "\u001b[31mPort 80 is open...\u001b[0m\n",
      "Port 81 is closed!\n",
      "Port 82 is closed!\n",
      "Port 83 is closed!\n",
      "Port 84 is closed!\n",
      "Port 85 is closed!\n",
      "Port 86 is closed!\n",
      "Port 87 is closed!\n",
      "Port 88 is closed!\n",
      "Port 89 is closed!\n",
      "Port 90 is closed!\n",
      "Port 91 is closed!\n",
      "Port 92 is closed!\n",
      "Port 93 is closed!\n",
      "Port 94 is closed!\n",
      "Port 95 is closed!\n",
      "Port 96 is closed!\n",
      "Port 97 is closed!\n",
      "Port 98 is closed!\n",
      "Port 99 is closed!\n",
      "Port 100 is closed!\n",
      "Port 101 is closed!\n",
      "Port 102 is closed!\n",
      "Port 103 is closed!\n",
      "Port 104 is closed!\n",
      "Port 105 is closed!\n",
      "Port 106 is closed!\n",
      "Port 107 is closed!\n",
      "Port 108 is closed!\n",
      "Port 109 is closed!\n",
      "\u001b[31mPort 110 is open...\u001b[0m\n",
      "\u001b[31mPort 111 is open...\u001b[0m\n",
      "Port 112 is closed!\n",
      "Port 113 is closed!\n",
      "Port 114 is closed!\n",
      "Port 115 is closed!\n",
      "Port 116 is closed!\n",
      "Port 117 is closed!\n",
      "Port 118 is closed!\n",
      "Port 119 is closed!\n",
      "Port 120 is closed!\n",
      "Port 121 is closed!\n",
      "Port 122 is closed!\n",
      "Port 123 is closed!\n",
      "Port 124 is closed!\n",
      "Port 125 is closed!\n",
      "Port 126 is closed!\n",
      "Port 127 is closed!\n",
      "Port 128 is closed!\n",
      "Port 129 is closed!\n",
      "Port 130 is closed!\n",
      "Port 131 is closed!\n",
      "Port 132 is closed!\n",
      "Port 133 is closed!\n",
      "Port 134 is closed!\n",
      "Port 135 is closed!\n",
      "Port 136 is closed!\n",
      "Port 137 is closed!\n",
      "Port 138 is closed!\n",
      "Port 139 is closed!\n",
      "Port 140 is closed!\n",
      "Port 141 is closed!\n",
      "Port 142 is closed!\n",
      "\u001b[31mPort 143 is open...\u001b[0m\n",
      "Port 144 is closed!\n",
      "Port 145 is closed!\n",
      "Port 146 is closed!\n",
      "Port 147 is closed!\n",
      "Port 148 is closed!\n",
      "Port 149 is closed!\n",
      "Port 150 is closed!\n",
      "Port 151 is closed!\n",
      "Port 152 is closed!\n",
      "Port 153 is closed!\n",
      "Port 154 is closed!\n",
      "Port 155 is closed!\n",
      "Port 156 is closed!\n",
      "Port 157 is closed!\n",
      "Port 158 is closed!\n",
      "Port 159 is closed!\n",
      "Port 160 is closed!\n",
      "Port 161 is closed!\n",
      "Port 162 is closed!\n",
      "Port 163 is closed!\n",
      "Port 164 is closed!\n",
      "Port 165 is closed!\n",
      "Port 166 is closed!\n",
      "Port 167 is closed!\n",
      "Port 168 is closed!\n",
      "Port 169 is closed!\n",
      "Port 170 is closed!\n",
      "Port 171 is closed!\n",
      "Port 172 is closed!\n",
      "Port 173 is closed!\n",
      "Port 174 is closed!\n",
      "Port 175 is closed!\n",
      "Port 176 is closed!\n",
      "Port 177 is closed!\n",
      "Port 178 is closed!\n",
      "Port 179 is closed!\n",
      "Port 180 is closed!\n",
      "Port 181 is closed!\n",
      "Port 182 is closed!\n",
      "Port 183 is closed!\n",
      "Port 184 is closed!\n",
      "Port 185 is closed!\n",
      "Port 186 is closed!\n",
      "Port 187 is closed!\n",
      "Port 188 is closed!\n",
      "Port 189 is closed!\n",
      "Port 190 is closed!\n",
      "Port 191 is closed!\n",
      "Port 192 is closed!\n",
      "Port 193 is closed!\n",
      "Port 194 is closed!\n",
      "Port 195 is closed!\n",
      "Port 196 is closed!\n",
      "Port 197 is closed!\n",
      "Port 198 is closed!\n",
      "Port 199 is closed!\n",
      "Port 200 is closed!\n",
      "Port 201 is closed!\n",
      "Port 202 is closed!\n",
      "Port 203 is closed!\n",
      "Port 204 is closed!\n",
      "Port 205 is closed!\n",
      "Port 206 is closed!\n",
      "Port 207 is closed!\n",
      "Port 208 is closed!\n",
      "Port 209 is closed!\n",
      "Port 210 is closed!\n",
      "Port 211 is closed!\n",
      "Port 212 is closed!\n",
      "Port 213 is closed!\n",
      "Port 214 is closed!\n",
      "Port 215 is closed!\n",
      "Port 216 is closed!\n",
      "Port 217 is closed!\n",
      "Port 218 is closed!\n",
      "Port 219 is closed!\n",
      "Port 220 is closed!\n",
      "Port 221 is closed!\n",
      "Port 222 is closed!\n",
      "Port 223 is closed!\n",
      "Port 224 is closed!\n",
      "Port 225 is closed!\n",
      "Port 226 is closed!\n",
      "Port 227 is closed!\n",
      "Port 228 is closed!\n",
      "Port 229 is closed!\n",
      "Port 230 is closed!\n",
      "Port 231 is closed!\n",
      "Port 232 is closed!\n",
      "Port 233 is closed!\n",
      "Port 234 is closed!\n",
      "Port 235 is closed!\n",
      "Port 236 is closed!\n",
      "Port 237 is closed!\n",
      "Port 238 is closed!\n",
      "Port 239 is closed!\n",
      "Port 240 is closed!\n",
      "Port 241 is closed!\n",
      "Port 242 is closed!\n",
      "Port 243 is closed!\n",
      "Port 244 is closed!\n",
      "Port 245 is closed!\n",
      "Port 246 is closed!\n",
      "Port 247 is closed!\n",
      "Port 248 is closed!\n",
      "Port 249 is closed!\n"
     ]
    }
   ],
   "source": [
    "for i in range(10,250):\n",
    "    portscanner(i)"
   ]
  },
  {
   "cell_type": "code",
   "execution_count": null,
   "metadata": {},
   "outputs": [],
   "source": []
  }
 ],
 "metadata": {
  "kernelspec": {
   "display_name": "Python 3",
   "language": "python",
   "name": "python3"
  },
  "language_info": {
   "codemirror_mode": {
    "name": "ipython",
    "version": 3
   },
   "file_extension": ".py",
   "mimetype": "text/x-python",
   "name": "python",
   "nbconvert_exporter": "python",
   "pygments_lexer": "ipython3",
   "version": "3.8.3"
  }
 },
 "nbformat": 4,
 "nbformat_minor": 4
}
