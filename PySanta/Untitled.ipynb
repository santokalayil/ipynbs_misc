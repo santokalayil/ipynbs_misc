{
 "cells": [
  {
   "cell_type": "code",
   "execution_count": 5,
   "metadata": {},
   "outputs": [],
   "source": [
    "#!pip install python-nmap\n",
    "import nmap\n",
    "import os"
   ]
  },
  {
   "cell_type": "code",
   "execution_count": 7,
   "metadata": {},
   "outputs": [
    {
     "name": "stdout",
     "output_type": "stream",
     "text": [
      "E:\\JN\\TF\\PySanta\n"
     ]
    }
   ],
   "source": [
    "old = os.getcwd()\n",
    "print(old)"
   ]
  },
  {
   "cell_type": "code",
   "execution_count": 15,
   "metadata": {},
   "outputs": [],
   "source": [
    "nmap_url = r\"C:\\Program Files (x86)\\Nmap\\nmap.exe\"\n",
    "new = os.path.split(nmap_url)[0]\n",
    "os.chdir(new)"
   ]
  },
  {
   "cell_type": "code",
   "execution_count": 16,
   "metadata": {},
   "outputs": [],
   "source": [
    "scanner = nmap.PortScanner()"
   ]
  },
  {
   "cell_type": "code",
   "execution_count": 19,
   "metadata": {},
   "outputs": [],
   "source": [
    "ip = '192.168.1.1/24'\n",
    "result = scanner.scan(ip, ports='24')"
   ]
  },
  {
   "cell_type": "code",
   "execution_count": 18,
   "metadata": {},
   "outputs": [
    {
     "data": {
      "text/plain": [
       "{'192.168.1.1': {'hostnames': [{'name': '', 'type': ''}],\n",
       "  'addresses': {'ipv4': '192.168.1.1', 'mac': 'C8:D7:79:C5:5D:4E'},\n",
       "  'vendor': {'C8:D7:79:C5:5D:4E': 'Qing DAO Haier Telecom'},\n",
       "  'status': {'state': 'up', 'reason': 'arp-response'},\n",
       "  'tcp': {53: {'state': 'open',\n",
       "    'reason': 'syn-ack',\n",
       "    'name': 'domain',\n",
       "    'product': 'dnsmasq',\n",
       "    'version': '2.77',\n",
       "    'extrainfo': '',\n",
       "    'conf': '10',\n",
       "    'cpe': 'cpe:/a:thekelleys:dnsmasq:2.77'},\n",
       "   80: {'state': 'open',\n",
       "    'reason': 'syn-ack',\n",
       "    'name': 'http',\n",
       "    'product': 'Boa HTTPd',\n",
       "    'version': '0.94.14rc21',\n",
       "    'extrainfo': '',\n",
       "    'conf': '10',\n",
       "    'cpe': 'cpe:/a:boa:boa:0.94.14rc21'},\n",
       "   6666: {'state': 'open',\n",
       "    'reason': 'syn-ack',\n",
       "    'name': 'achat',\n",
       "    'product': 'AChat chat system',\n",
       "    'version': '',\n",
       "    'extrainfo': '',\n",
       "    'conf': '10',\n",
       "    'cpe': ''},\n",
       "   7777: {'state': 'open',\n",
       "    'reason': 'syn-ack',\n",
       "    'name': 'achat',\n",
       "    'product': 'AChat chat system',\n",
       "    'version': '',\n",
       "    'extrainfo': '',\n",
       "    'conf': '10',\n",
       "    'cpe': ''}}},\n",
       " '192.168.1.103': {'hostnames': [{'name': '', 'type': ''}],\n",
       "  'addresses': {'ipv4': '192.168.1.103'},\n",
       "  'vendor': {},\n",
       "  'status': {'state': 'up', 'reason': 'localhost-response'},\n",
       "  'tcp': {135: {'state': 'open',\n",
       "    'reason': 'syn-ack',\n",
       "    'name': 'msrpc',\n",
       "    'product': 'Microsoft Windows RPC',\n",
       "    'version': '',\n",
       "    'extrainfo': '',\n",
       "    'conf': '10',\n",
       "    'cpe': 'cpe:/o:microsoft:windows'},\n",
       "   139: {'state': 'open',\n",
       "    'reason': 'syn-ack',\n",
       "    'name': 'netbios-ssn',\n",
       "    'product': 'Microsoft Windows netbios-ssn',\n",
       "    'version': '',\n",
       "    'extrainfo': '',\n",
       "    'conf': '10',\n",
       "    'cpe': 'cpe:/o:microsoft:windows'},\n",
       "   445: {'state': 'open',\n",
       "    'reason': 'syn-ack',\n",
       "    'name': 'microsoft-ds',\n",
       "    'product': '',\n",
       "    'version': '',\n",
       "    'extrainfo': '',\n",
       "    'conf': '3',\n",
       "    'cpe': ''},\n",
       "   902: {'state': 'open',\n",
       "    'reason': 'syn-ack',\n",
       "    'name': 'vmware-auth',\n",
       "    'product': 'VMware Authentication Daemon',\n",
       "    'version': '1.10',\n",
       "    'extrainfo': 'Uses VNC, SOAP',\n",
       "    'conf': '10',\n",
       "    'cpe': ''},\n",
       "   912: {'state': 'open',\n",
       "    'reason': 'syn-ack',\n",
       "    'name': 'vmware-auth',\n",
       "    'product': 'VMware Authentication Daemon',\n",
       "    'version': '1.0',\n",
       "    'extrainfo': 'Uses VNC, SOAP',\n",
       "    'conf': '10',\n",
       "    'cpe': ''},\n",
       "   3306: {'state': 'open',\n",
       "    'reason': 'syn-ack',\n",
       "    'name': 'mysql',\n",
       "    'product': 'MySQL',\n",
       "    'version': '',\n",
       "    'extrainfo': 'unauthorized',\n",
       "    'conf': '10',\n",
       "    'cpe': 'cpe:/a:mysql:mysql'},\n",
       "   5432: {'state': 'open',\n",
       "    'reason': 'syn-ack',\n",
       "    'name': 'postgresql',\n",
       "    'product': 'PostgreSQL DB',\n",
       "    'version': '9.6.0 or later',\n",
       "    'extrainfo': '',\n",
       "    'conf': '10',\n",
       "    'cpe': 'cpe:/a:postgresql:postgresql'}}}}"
      ]
     },
     "execution_count": 18,
     "metadata": {},
     "output_type": "execute_result"
    }
   ],
   "source": [
    "result['scan']"
   ]
  },
  {
   "cell_type": "code",
   "execution_count": 148,
   "metadata": {},
   "outputs": [],
   "source": [
    "import mallu"
   ]
  },
  {
   "cell_type": "code",
   "execution_count": 150,
   "metadata": {},
   "outputs": [
    {
     "name": "stdout",
     "output_type": "stream",
     "text": [
      "**************************************** ----| MALLU |---- *****************************************\n",
      "\n",
      "========================================= ABOUT THE AUTHOR =========================================\n",
      "                      MALLU module is written by Santo K Thomas, Kerala, India                      \n",
      "                                    Email:santokalayil@gmail.com                                    \n",
      "----------------------------------------------------------------------------------------------------\n",
      "\n",
      "====================================== HOW TO USE THE MODULE =======================================\n",
      "                                         import mallu as ml                                         \n",
      "                                   from mallu import santa as san                                   \n",
      "                                   from mallu import model as mlm                                   \n"
     ]
    }
   ],
   "source": [
    "mallu.about()"
   ]
  },
  {
   "cell_type": "code",
   "execution_count": 159,
   "metadata": {},
   "outputs": [
    {
     "name": "stdout",
     "output_type": "stream",
     "text": [
      "absl-py==0.9.0\n",
      "alabaster==0.7.12\n",
      "altgraph==0.16.1\n",
      "anaconda-client==1.7.2\n",
      "anaconda-navigator==1.9.7\n",
      "anaconda-project==0.8.3\n",
      "appdirs==1.4.3\n",
      "arrow==0.15.5\n",
      "asgiref==3.2.3\n",
      "asn1crypto==0.24.0\n",
      "astor==0.8.1\n",
      "astroid==2.2.5\n",
      "astropy==3.2.1\n",
      "atomicwrites==1.3.0\n",
      "attrs==19.1.0\n",
      "audio2numpy==0.1.2\n",
      "audioread==2.1.8\n",
      "Automat==0.8.0\n",
      "Babel==2.7.0\n",
      "backcall==0.1.0\n",
      "backports.functools-lru-cache==1.5\n",
      "backports.os==0.1.1\n",
      "backports.shutil-get-terminal-size==1.0.0\n",
      "backports.tempfile==1.0\n",
      "backports.weakref==1.0.post1\n",
      "beautifulsoup4==4.7.1\n",
      "binaryornot==0.4.4\n",
      "bitarray==0.9.3\n",
      "bkcharts==0.2\n",
      "bleach==3.1.0\n",
      "bokeh==1.2.0\n",
      "boto==2.49.0\n",
      "bottle==0.12.17\n",
      "bottle-websocket==0.2.9\n",
      "Bottleneck==1.2.1\n",
      "buildozer==1.0.1.dev0\n",
      "cachetools==4.0.0\n",
      "cairocffi==1.1.0\n",
      "CairoSVG==2.4.2\n",
      "catboost==0.20.2\n",
      "certifi==2019.11.28\n",
      "cffi==1.12.3\n",
      "chardet==3.0.4\n",
      "check-manifest==0.40\n",
      "chuck==0.0.1\n",
      "Click==7.0\n",
      "cloudpickle==1.2.1\n",
      "clyent==1.2.2\n",
      "colorama==0.4.1\n",
      "colorlog==4.1.0\n",
      "comtypes==1.1.7\n",
      "conda==4.7.12\n",
      "conda-build==3.18.8\n",
      "conda-package-handling==1.3.11\n",
      "conda-verify==3.4.2\n",
      "config==0.4.2\n",
      "constantly==15.1.0\n",
      "contextlib2==0.5.5\n",
      "cookiecutter==1.7.0\n",
      "cryptography==2.7\n",
      "cssselect==1.1.0\n",
      "cssselect2==0.3.0\n",
      "ctcsound==6.13\n",
      "cycler==0.10.0\n",
      "Cython==0.29.12\n",
      "cytoolz==0.10.0\n",
      "dask==2.1.0\n",
      "decorator==4.4.0\n",
      "defusedxml==0.6.0\n",
      "Deprecated==1.2.9\n",
      "distlib==0.3.0\n",
      "distributed==2.1.0\n",
      "Django==3.0\n",
      "django-tinymce4-lite==1.7.5\n",
      "docopt==0.6.2\n",
      "docutils==0.14\n",
      "Eel==0.11.0\n",
      "entrypoints==0.3\n",
      "et-xmlfile==1.0.1\n",
      "ExpectException==0.1.1\n",
      "facebook-sdk==3.1.0\n",
      "fastcache==1.1.0\n",
      "ffmpeg==1.4\n",
      "ffmpeg-python==0.2.0\n",
      "filelock==3.0.12\n",
      "Flask==1.1.1\n",
      "Flask-Markdown==0.3\n",
      "Flask-MySQLdb==0.2.0\n",
      "Flask-SQLAlchemy==2.4.1\n",
      "FoxDot==0.8.4\n",
      "future==0.17.1\n",
      "gast==0.2.2\n",
      "gevent==1.4.0\n",
      "gevent-websocket==0.10.1\n",
      "gizeh==0.1.11\n",
      "glob2==0.7\n",
      "google==2.0.3\n",
      "google-api-core==1.17.0\n",
      "google-api-python-client==1.8.2\n",
      "google-auth==1.14.1\n",
      "google-auth-httplib2==0.0.3\n",
      "google-auth-oauthlib==0.4.1\n",
      "google-cloud-core==1.3.0\n",
      "google-cloud-datastore==1.12.0\n",
      "google-cloud-storage==1.28.0\n",
      "google-cloud-vision==1.0.0\n",
      "google-pasta==0.1.8\n",
      "google-resumable-media==0.5.0\n",
      "googleapis-common-protos==1.51.0\n",
      "graphviz==0.13.2\n",
      "greenlet==0.4.15\n",
      "grpcio==1.26.0\n",
      "h5py==2.9.0\n",
      "heapdict==1.0.0\n",
      "html5lib==1.0.1\n",
      "httplib2==0.14.0\n",
      "hyperlink==19.0.0\n",
      "idna==2.7\n",
      "imageio==2.5.0\n",
      "imageio-ffmpeg==0.4.1\n",
      "imagesize==1.1.0\n",
      "imbalanced-learn==0.5.0\n",
      "imblearn==0.0\n",
      "importlib-metadata==0.17\n",
      "incremental==17.5.0\n",
      "inflection==0.3.1\n",
      "ipykernel==5.1.1\n",
      "ipython==7.6.1\n",
      "ipython-genutils==0.2.0\n",
      "ipywidgets==7.5.1\n",
      "isort==4.3.21\n",
      "itsdangerous==1.1.0\n",
      "jdcal==1.4.1\n",
      "jedi==0.13.3\n",
      "Jinja2==2.10.1\n",
      "jinja2-time==0.2.0\n",
      "joblib==0.13.2\n",
      "Js2Py==0.66\n",
      "jsmin==2.2.2\n",
      "json5==0.8.4\n",
      "jsonschema==3.0.1\n",
      "jupyter==1.0.0\n",
      "jupyter-client==5.3.1\n",
      "jupyter-console==6.0.0\n",
      "jupyter-contrib-core==0.3.3\n",
      "jupyter-contrib-nbextensions==0.5.1\n",
      "jupyter-core==4.5.0\n",
      "jupyter-highlight-selected-word==0.2.0\n",
      "jupyter-latex-envs==1.4.6\n",
      "jupyter-nbextensions-configurator==0.4.1\n",
      "jupyterlab==1.0.2\n",
      "jupyterlab-server==1.0.0\n",
      "kalayil==0.1.4\n",
      "Keras-Applications==1.0.8\n",
      "Keras-Preprocessing==1.1.0\n",
      "keyring==18.0.0\n",
      "Kivy==1.11.1\n",
      "kivy-deps.angle==0.1.9\n",
      "kivy-deps.glew==0.1.12\n",
      "kivy-deps.gstreamer==0.1.17\n",
      "kivy-deps.sdl2==0.1.22\n",
      "Kivy-Garden==0.1.4\n",
      "kiwisolver==1.1.0\n",
      "lazy-object-proxy==1.4.1\n",
      "libarchive-c==2.8\n",
      "librosa==0.7.1\n",
      "lightgbm==2.3.1\n",
      "llvmlite==0.29.0\n",
      "locket==0.2.0\n",
      "lxml==4.3.4\n",
      "mallu==0.1.6\n",
      "Markdown==3.1.1\n",
      "MarkupSafe==1.1.1\n",
      "matplotlib==3.1.0\n",
      "mccabe==0.6.1\n",
      "menuinst==1.4.16\n",
      "mido==1.2.9\n",
      "mistune==0.8.4\n",
      "mkl-fft==1.0.12\n",
      "mkl-random==1.0.2\n",
      "mkl-service==2.0.2\n",
      "mnist==0.2.2\n",
      "mock==3.0.5\n",
      "more-itertools==5.0.0\n",
      "MouseInfo==0.1.3\n",
      "moviepy==1.0.2\n",
      "mpmath==1.1.0\n",
      "msgpack==0.6.1\n",
      "mss==5.0.0\n",
      "multipledispatch==0.6.0\n",
      "mysql-connector==2.2.9\n",
      "mysql-connector-python==8.0.17\n",
      "mysqlclient==1.4.6\n",
      "navigator-updater==0.2.1\n",
      "nbconvert==5.5.0\n",
      "nbformat==4.4.0\n",
      "ndg-httpsclient==0.5.1\n",
      "networkx==2.3\n",
      "nltk==3.4.4\n",
      "nodejs==0.1.1\n",
      "nose==1.3.7\n",
      "notebook==6.0.1\n",
      "npm==0.1.1\n",
      "numba==0.44.1\n",
      "numexpr==2.6.9\n",
      "numpy==1.18.3\n",
      "numpydoc==0.9.1\n",
      "oauthlib==3.1.0\n",
      "olefile==0.46\n",
      "opencv-python==4.1.2.30\n",
      "openpyxl==2.6.2\n",
      "opt-einsum==3.1.0\n",
      "optional-django==0.1.0\n",
      "packaging==19.0\n",
      "pafy==0.5.5\n",
      "pandas==0.24.2\n",
      "pandocfilters==1.4.2\n",
      "parsel==1.5.2\n",
      "parso==0.5.0\n",
      "partd==1.0.0\n",
      "path.py==12.0.1\n",
      "pathlib2==2.3.4\n",
      "patsy==0.5.1\n",
      "pefile==2019.4.18\n",
      "pep517==0.6.0\n",
      "pep8==1.7.1\n",
      "pexpect==4.8.0\n",
      "phonenumbers==8.10.2\n",
      "pickleshare==0.7.5\n",
      "Pillow==6.1.0\n",
      "pipenv==2018.11.26\n",
      "pipwin==0.4.6\n",
      "pkginfo==1.5.0.1\n",
      "plotly==4.3.0\n",
      "plotly-geo==1.0.0\n",
      "pluggy==0.12.0\n",
      "ply==3.11\n",
      "poyo==0.5.0\n",
      "proglog==0.1.9\n",
      "prometheus-client==0.7.1\n",
      "prompt-toolkit==2.0.9\n",
      "Protego==0.1.16\n",
      "protobuf==3.11.2\n",
      "psutil==5.6.3\n",
      "psycopg2==2.8.4\n",
      "ptyprocess==0.6.0\n",
      "py==1.8.0\n",
      "py4j==0.10.7\n",
      "pyasn1==0.4.8\n",
      "pyasn1-modules==0.2.7\n",
      "PyAudio==0.2.11\n",
      "PyAutoGUI==0.9.50\n",
      "pycodestyle==2.5.0\n",
      "pycosat==0.6.3\n",
      "pycparser==2.19\n",
      "pycrypto==2.6.1\n",
      "pycurl==7.43.0.3\n",
      "PyDispatcher==2.0.5\n",
      "pydub==0.23.1\n",
      "pyflakes==2.1.1\n",
      "pygame==1.9.6\n",
      "pygeoip==0.3.2\n",
      "PyGetWindow==0.0.8\n",
      "PyGithub==1.47\n",
      "Pygments==2.4.2\n",
      "PyHamcrest==1.9.0\n",
      "PyInstaller==3.5\n",
      "pyjsparser==2.7.1\n",
      "PyJWT==1.7.1\n",
      "pylint==2.3.1\n",
      "PyMsgBox==1.0.7\n",
      "pyo==1.0.1\n",
      "pyodbc==4.0.26\n",
      "pyOpenSSL==19.0.0\n",
      "pyparsing==2.4.0\n",
      "pyperclip==1.8.0\n",
      "Pyphen==0.9.5\n",
      "pypiwin32==223\n",
      "PyPrind==2.11.2\n",
      "PyQt5==5.13.2\n",
      "PyQt5-sip==12.7.0\n",
      "pyreadline==2.1\n",
      "PyRect==0.1.4\n",
      "pyrsistent==0.14.11\n",
      "PyScreeze==0.1.26\n",
      "PySocks==1.7.0\n",
      "pyspark==2.4.4\n",
      "pytesseract==0.3.4\n",
      "pytest==5.0.1\n",
      "pytest-arraydiff==0.3\n",
      "pytest-astropy==0.5.0\n",
      "pytest-doctestplus==0.3.0\n",
      "pytest-openfiles==0.3.2\n",
      "pytest-remotedata==0.3.1\n",
      "python-dateutil==2.8.0\n",
      "python-for-android==2020.3.30\n",
      "python-nmap==0.6.1\n",
      "python-pptx==0.6.18\n",
      "python-vlc==3.0.7110\n",
      "python3-nmap==1.4.7\n",
      "pytoml==0.1.21\n",
      "pytube==9.5.3\n",
      "PyTweening==1.0.3\n",
      "pytz==2019.1\n",
      "PyWavelets==1.0.3\n",
      "pywin32==223\n",
      "pywin32-ctypes==0.2.0\n",
      "pywinpty==0.5.5\n",
      "PyYAML==5.1.1\n",
      "pyzmq==18.0.0\n",
      "QtAwesome==0.5.7\n",
      "qtconsole==4.5.1\n",
      "QtPy==1.8.0\n",
      "Quandl==3.4.8\n",
      "queuelib==1.5.0\n",
      "readme-renderer==24.0\n",
      "requests==2.21.0\n",
      "requests-oauthlib==1.3.0\n",
      "requests-toolbelt==0.9.1\n",
      "resampy==0.2.2\n",
      "retrying==1.3.3\n",
      "robobrowser==0.5.3\n",
      "rope==0.14.0\n",
      "rsa==4.0\n",
      "ruamel-yaml==0.15.46\n",
      "scikit-image==0.15.0\n",
      "scikit-learn==0.21.2\n",
      "scikit-video==1.1.11\n",
      "scipy==1.4.1\n",
      "Scrapy==1.8.0\n",
      "seaborn==0.9.0\n",
      "selenium==3.141.0\n",
      "Send2Trash==1.5.0\n",
      "service-identity==18.1.0\n",
      "sh==1.12.14\n",
      "simplegeneric==0.8.1\n",
      "simplejson==3.17.0\n",
      "singledispatch==3.4.0.3\n",
      "six==1.12.0\n",
      "sklearn==0.0\n",
      "snowballstemmer==1.9.0\n",
      "sortedcollections==1.1.2\n",
      "sortedcontainers==2.1.0\n",
      "sounddevice==0.3.14\n",
      "SoundFile==0.10.3.post1\n",
      "soupsieve==1.8\n",
      "Sphinx==2.3.1\n",
      "sphinx-rtd-theme==0.4.3\n",
      "sphinxcontrib-applehelp==1.0.1\n",
      "sphinxcontrib-devhelp==1.0.1\n",
      "sphinxcontrib-htmlhelp==1.0.2\n",
      "sphinxcontrib-jsmath==1.0.1\n",
      "sphinxcontrib-qthelp==1.0.2\n",
      "sphinxcontrib-serializinghtml==1.1.3\n",
      "sphinxcontrib-websupport==1.1.2\n",
      "spyder==3.3.6\n",
      "spyder-kernels==0.5.1\n",
      "SQLAlchemy==1.3.5\n",
      "sqlparse==0.3.0\n",
      "statsmodels==0.10.0\n",
      "streamer==0.5.1\n",
      "sympy==1.4\n",
      "tables==3.5.2\n",
      "tblib==1.4.0\n",
      "tensorboard==2.1.0\n",
      "tensorflow==2.1.0\n",
      "tensorflow-estimator==2.1.0\n",
      "termcolor==1.1.0\n",
      "terminado==0.8.2\n",
      "testpath==0.4.2\n",
      "tinycss2==1.0.2\n",
      "toml==0.10.0\n",
      "toolz==0.10.0\n",
      "tornado==6.0.3\n",
      "tox==3.14.3\n",
      "tqdm==4.32.1\n",
      "traitlets==4.3.2\n",
      "twine==3.1.1\n",
      "Twisted==19.10.0\n",
      "tzlocal==2.0.0\n",
      "unicodecsv==0.14.1\n",
      "uritemplate==3.0.0\n",
      "urllib3==1.24.2\n",
      "vidgear==0.1.6\n",
      "virtualenv==20.0.18\n",
      "virtualenv-clone==0.5.3\n",
      "w3lib==1.21.0\n",
      "wcwidth==0.1.7\n",
      "WeasyPrint==51\n",
      "webencodings==0.5.1\n",
      "Werkzeug==0.15.4\n",
      "wget==3.2\n",
      "whichcraft==0.6.1\n",
      "widgetsnbextension==3.5.0\n",
      "win-inet-pton==1.1.0\n",
      "win-unicode-console==0.5\n",
      "wincertstore==0.2\n",
      "wrapt==1.11.2\n",
      "xgboost==0.90\n",
      "xlrd==1.2.0\n",
      "XlsxWriter==1.1.8\n",
      "xlwings==0.15.8\n",
      "xlwt==1.3.0\n",
      "youtube-dl==2020.3.24\n",
      "zict==1.0.0\n",
      "zipp==0.5.1\n",
      "zope.interface==4.7.1\n"
     ]
    },
    {
     "name": "stderr",
     "output_type": "stream",
     "text": [
      "WARNING: Could not generate requirement for distribution -umpy 1.16.4 (c:\\users\\santo\\appdata\\local\\continuum\\anaconda3\\lib\\site-packages): Parse error at \"'-umpy==1'\": Expected W:(abcd...)\n"
     ]
    }
   ],
   "source": [
    "!pip freeze"
   ]
  },
  {
   "cell_type": "code",
   "execution_count": 21,
   "metadata": {},
   "outputs": [
    {
     "name": "stdout",
     "output_type": "stream",
     "text": [
      "Collecting pynput\n",
      "  Downloading pynput-1.6.8-py2.py3-none-any.whl (91 kB)\n",
      "Requirement already satisfied: six in c:\\users\\santo\\appdata\\local\\continuum\\anaconda3\\lib\\site-packages (from pynput) (1.12.0)\n",
      "Installing collected packages: pynput\n",
      "Successfully installed pynput-1.6.8\n"
     ]
    }
   ],
   "source": [
    "!pip install pynput"
   ]
  },
  {
   "cell_type": "code",
   "execution_count": null,
   "metadata": {},
   "outputs": [],
   "source": []
  },
  {
   "cell_type": "code",
   "execution_count": 25,
   "metadata": {},
   "outputs": [
    {
     "name": "stdout",
     "output_type": "stream",
     "text": [
      "'q' 'e' '9' '8' '7' 'e' 'r' '8' 'e' '7' '9' '8' 'e' '7' 'r' '9' '8' '7' '9' 'e' 'r' '9' '8' '7' '8' '7' '8' '9' '8' '9' '8' '7' 'u' 's' 'd' 'i' 'u' 'f' 'o' 'd' 'u' 'o' 'i' 'u' Key.esc "
     ]
    }
   ],
   "source": [
    "import pynput\n",
    "from pynput.keyboard import Key, Listener\n",
    "\n",
    "def on_press(key):\n",
    "    print(f\"{key}\", end=' ')\n",
    "    \n",
    "def on_release(key):\n",
    "    if key == Key.esc:\n",
    "        return False\n",
    "    \n",
    "with Listener(on_press=on_press, on_release=on_release) as listener:\n",
    "    listener.join()"
   ]
  },
  {
   "cell_type": "code",
   "execution_count": null,
   "metadata": {
    "collapsed": true
   },
   "outputs": [],
   "source": []
  },
  {
   "cell_type": "code",
   "execution_count": null,
   "metadata": {},
   "outputs": [],
   "source": []
  },
  {
   "cell_type": "code",
   "execution_count": null,
   "metadata": {
    "collapsed": true
   },
   "outputs": [],
   "source": []
  },
  {
   "cell_type": "code",
   "execution_count": null,
   "metadata": {},
   "outputs": [],
   "source": []
  },
  {
   "cell_type": "code",
   "execution_count": null,
   "metadata": {},
   "outputs": [],
   "source": []
  },
  {
   "cell_type": "code",
   "execution_count": null,
   "metadata": {
    "collapsed": true
   },
   "outputs": [],
   "source": []
  },
  {
   "cell_type": "markdown",
   "metadata": {},
   "source": []
  },
  {
   "cell_type": "code",
   "execution_count": null,
   "metadata": {},
   "outputs": [],
   "source": []
  },
  {
   "cell_type": "code",
   "execution_count": null,
   "metadata": {},
   "outputs": [],
   "source": []
  },
  {
   "cell_type": "code",
   "execution_count": 54,
   "metadata": {},
   "outputs": [
    {
     "data": {
      "text/plain": [
       "'E:/JN/TF'"
      ]
     },
     "execution_count": 54,
     "metadata": {},
     "output_type": "execute_result"
    }
   ],
   "source": [
    "from os import environ\n",
    "environ.get('pwd')"
   ]
  },
  {
   "cell_type": "code",
   "execution_count": 55,
   "metadata": {},
   "outputs": [],
   "source": [
    "import subprocess"
   ]
  },
  {
   "cell_type": "code",
   "execution_count": 58,
   "metadata": {},
   "outputs": [
    {
     "data": {
      "text/plain": [
       "0"
      ]
     },
     "execution_count": 58,
     "metadata": {},
     "output_type": "execute_result"
    }
   ],
   "source": [
    "subprocess.call(['dir'])"
   ]
  },
  {
   "cell_type": "code",
   "execution_count": 61,
   "metadata": {},
   "outputs": [
    {
     "name": "stdout",
     "output_type": "stream",
     "text": [
      "/c/Program Files (x86)/Nmap\n"
     ]
    }
   ],
   "source": [
    "print(subprocess.getoutput('pwd'))"
   ]
  },
  {
   "cell_type": "code",
   "execution_count": 62,
   "metadata": {},
   "outputs": [
    {
     "data": {
      "text/plain": [
       "['ABOVE_NORMAL_PRIORITY_CLASS',\n",
       " 'BELOW_NORMAL_PRIORITY_CLASS',\n",
       " 'CREATE_BREAKAWAY_FROM_JOB',\n",
       " 'CREATE_DEFAULT_ERROR_MODE',\n",
       " 'CREATE_NEW_CONSOLE',\n",
       " 'CREATE_NEW_PROCESS_GROUP',\n",
       " 'CREATE_NO_WINDOW',\n",
       " 'CalledProcessError',\n",
       " 'CompletedProcess',\n",
       " 'DETACHED_PROCESS',\n",
       " 'DEVNULL',\n",
       " 'HIGH_PRIORITY_CLASS',\n",
       " 'Handle',\n",
       " 'IDLE_PRIORITY_CLASS',\n",
       " 'NORMAL_PRIORITY_CLASS',\n",
       " 'PIPE',\n",
       " 'Popen',\n",
       " 'REALTIME_PRIORITY_CLASS',\n",
       " 'STARTF_USESHOWWINDOW',\n",
       " 'STARTF_USESTDHANDLES',\n",
       " 'STARTUPINFO',\n",
       " 'STDOUT',\n",
       " 'STD_ERROR_HANDLE',\n",
       " 'STD_INPUT_HANDLE',\n",
       " 'STD_OUTPUT_HANDLE',\n",
       " 'SW_HIDE',\n",
       " 'SubprocessError',\n",
       " 'TimeoutExpired',\n",
       " '__all__',\n",
       " '__builtins__',\n",
       " '__cached__',\n",
       " '__doc__',\n",
       " '__file__',\n",
       " '__loader__',\n",
       " '__name__',\n",
       " '__package__',\n",
       " '__spec__',\n",
       " '_active',\n",
       " '_args_from_interpreter_flags',\n",
       " '_cleanup',\n",
       " '_mswindows',\n",
       " '_optim_args_from_interpreter_flags',\n",
       " '_time',\n",
       " '_winapi',\n",
       " 'builtins',\n",
       " 'call',\n",
       " 'check_call',\n",
       " 'check_output',\n",
       " 'errno',\n",
       " 'getoutput',\n",
       " 'getstatusoutput',\n",
       " 'io',\n",
       " 'list2cmdline',\n",
       " 'msvcrt',\n",
       " 'os',\n",
       " 'run',\n",
       " 'signal',\n",
       " 'sys',\n",
       " 'threading',\n",
       " 'time',\n",
       " 'warnings']"
      ]
     },
     "execution_count": 62,
     "metadata": {},
     "output_type": "execute_result"
    }
   ],
   "source": [
    "dir(subprocess)"
   ]
  },
  {
   "cell_type": "code",
   "execution_count": 66,
   "metadata": {},
   "outputs": [
    {
     "data": {
      "text/plain": [
       "<subprocess.Popen at 0x22b4e72c710>"
      ]
     },
     "execution_count": 66,
     "metadata": {},
     "output_type": "execute_result"
    }
   ],
   "source": [
    "subprocess.Popen('ls')"
   ]
  },
  {
   "cell_type": "code",
   "execution_count": 69,
   "metadata": {},
   "outputs": [
    {
     "data": {
      "text/plain": [
       "-2"
      ]
     },
     "execution_count": 69,
     "metadata": {},
     "output_type": "execute_result"
    }
   ],
   "source": [
    "subprocess.STDOUT"
   ]
  },
  {
   "cell_type": "code",
   "execution_count": 74,
   "metadata": {},
   "outputs": [
    {
     "data": {
      "text/plain": [
       "0"
      ]
     },
     "execution_count": 74,
     "metadata": {},
     "output_type": "execute_result"
    }
   ],
   "source": [
    "subprocess.call('pwd')"
   ]
  },
  {
   "cell_type": "code",
   "execution_count": 76,
   "metadata": {},
   "outputs": [
    {
     "data": {
      "text/plain": [
       "CompletedProcess(args='dir', returncode=0)"
      ]
     },
     "execution_count": 76,
     "metadata": {},
     "output_type": "execute_result"
    }
   ],
   "source": [
    "subprocess.run('dir')"
   ]
  },
  {
   "cell_type": "code",
   "execution_count": 84,
   "metadata": {},
   "outputs": [],
   "source": [
    "hi = subprocess.run('dir', shell=True)"
   ]
  },
  {
   "cell_type": "code",
   "execution_count": 83,
   "metadata": {},
   "outputs": [
    {
     "data": {
      "text/plain": [
       "CompletedProcess(args='dir', returncode=0)"
      ]
     },
     "execution_count": 83,
     "metadata": {},
     "output_type": "execute_result"
    }
   ],
   "source": [
    "hi"
   ]
  },
  {
   "cell_type": "code",
   "execution_count": 80,
   "metadata": {},
   "outputs": [
    {
     "name": "stdout",
     "output_type": "stream",
     "text": [
      "Help on CompletedProcess in module subprocess object:\n",
      "\n",
      "class CompletedProcess(builtins.object)\n",
      " |  CompletedProcess(args, returncode, stdout=None, stderr=None)\n",
      " |  \n",
      " |  A process that has finished running.\n",
      " |  \n",
      " |  This is returned by run().\n",
      " |  \n",
      " |  Attributes:\n",
      " |    args: The list or str args passed to run().\n",
      " |    returncode: The exit code of the process, negative for signals.\n",
      " |    stdout: The standard output (None if not captured).\n",
      " |    stderr: The standard error (None if not captured).\n",
      " |  \n",
      " |  Methods defined here:\n",
      " |  \n",
      " |  __init__(self, args, returncode, stdout=None, stderr=None)\n",
      " |      Initialize self.  See help(type(self)) for accurate signature.\n",
      " |  \n",
      " |  __repr__(self)\n",
      " |      Return repr(self).\n",
      " |  \n",
      " |  check_returncode(self)\n",
      " |      Raise CalledProcessError if the exit code is non-zero.\n",
      " |  \n",
      " |  ----------------------------------------------------------------------\n",
      " |  Data descriptors defined here:\n",
      " |  \n",
      " |  __dict__\n",
      " |      dictionary for instance variables (if defined)\n",
      " |  \n",
      " |  __weakref__\n",
      " |      list of weak references to the object (if defined)\n",
      "\n"
     ]
    }
   ],
   "source": [
    "help(hi)"
   ]
  },
  {
   "cell_type": "code",
   "execution_count": null,
   "metadata": {},
   "outputs": [],
   "source": []
  },
  {
   "cell_type": "code",
   "execution_count": null,
   "metadata": {},
   "outputs": [],
   "source": []
  },
  {
   "cell_type": "code",
   "execution_count": null,
   "metadata": {},
   "outputs": [],
   "source": []
  },
  {
   "cell_type": "code",
   "execution_count": null,
   "metadata": {},
   "outputs": [],
   "source": []
  },
  {
   "cell_type": "code",
   "execution_count": null,
   "metadata": {},
   "outputs": [],
   "source": []
  },
  {
   "cell_type": "code",
   "execution_count": null,
   "metadata": {},
   "outputs": [],
   "source": []
  },
  {
   "cell_type": "code",
   "execution_count": null,
   "metadata": {},
   "outputs": [],
   "source": []
  },
  {
   "cell_type": "code",
   "execution_count": null,
   "metadata": {},
   "outputs": [],
   "source": []
  },
  {
   "cell_type": "code",
   "execution_count": 47,
   "metadata": {},
   "outputs": [],
   "source": [
    "environ.get('dir')"
   ]
  },
  {
   "cell_type": "code",
   "execution_count": 38,
   "metadata": {},
   "outputs": [
    {
     "name": "stdout",
     "output_type": "stream",
     "text": [
      "<100> <101> <102> <97> <98> <101> <104> <103> *//*<99> <102> <98> <97> Key.shift_r <100> <101> <104> <101> <100> santokaiwho are you dear friend Key.shift I am rady Key.backspace Key.backspace Key.backspace Key.backspace eady for all those peplKey.backspace Key.backspace ople who are not baKey.backspace Key.backspace hacppening Key.esc "
     ]
    }
   ],
   "source": [
    "import pynput\n",
    "from pynput.keyboard import Key, Listener\n",
    "\n",
    "to_print = ''\n",
    "def on_press(key):\n",
    "    global to_print\n",
    "    if (str(key)[0] == '\\'') and (str(key)[-1] == '\\''):\n",
    "        to_print = (str(key)).strip('\\'')\n",
    "        print(to_print, end='')\n",
    "    elif key == Key.space:\n",
    "        print(' ', end='')\n",
    "    \n",
    "    elif key == Key.enter:\n",
    "        print('\\n', end='')\n",
    "\n",
    "    else:\n",
    "        print(f\"{key}\", end=' ')\n",
    "    \n",
    "def on_release(key):\n",
    "    if key == Key.esc:return False\n",
    "    \n",
    "with Listener(on_press=on_press, on_release=on_release) as listener:\n",
    "    listener.join()"
   ]
  },
  {
   "cell_type": "code",
   "execution_count": 42,
   "metadata": {},
   "outputs": [
    {
     "name": "stdout",
     "output_type": "stream",
     "text": [
      "who is there\n"
     ]
    }
   ],
   "source": [
    "print('who is there')"
   ]
  },
  {
   "cell_type": "code",
   "execution_count": null,
   "metadata": {
    "collapsed": true
   },
   "outputs": [],
   "source": []
  },
  {
   "cell_type": "code",
   "execution_count": null,
   "metadata": {},
   "outputs": [],
   "source": [
    "\n"
   ]
  },
  {
   "cell_type": "code",
   "execution_count": null,
   "metadata": {},
   "outputs": [],
   "source": []
  }
 ],
 "metadata": {
  "kernelspec": {
   "display_name": "Python 3",
   "language": "python",
   "name": "python3"
  },
  "language_info": {
   "codemirror_mode": {
    "name": "ipython",
    "version": 3
   },
   "file_extension": ".py",
   "mimetype": "text/x-python",
   "name": "python",
   "nbconvert_exporter": "python",
   "pygments_lexer": "ipython3",
   "version": "3.7.3"
  }
 },
 "nbformat": 4,
 "nbformat_minor": 2
}
