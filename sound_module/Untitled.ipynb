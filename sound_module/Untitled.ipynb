{
 "cells": [
  {
   "cell_type": "code",
   "execution_count": 2,
   "metadata": {},
   "outputs": [],
   "source": [
    "# !pip install sounddevice"
   ]
  },
  {
   "cell_type": "code",
   "execution_count": 1,
   "metadata": {},
   "outputs": [],
   "source": [
    "import numpy as np\n",
    "import sounddevice as sd\n",
    "import time"
   ]
  },
  {
   "cell_type": "code",
   "execution_count": 8,
   "metadata": {},
   "outputs": [],
   "source": [
    "sps = 44100 # samples per second\n",
    "freq_hz = 440.0 # frequency or pitch\n",
    "duration_s = 5.0 # duration seconds\n",
    "atten = 0.3 # attenuation or lowering the volume\n",
    "\n",
    "# numpy to calculate the waveform\n",
    "each_sample_number = np.arange(duration_s * sps)\n",
    "waveform = np.sin(2 * np.pi * each_sample_number * freq_hz / sps)\n",
    "\n",
    "waveform_quiet = waveform * atten\n",
    "\n",
    "loud = [waveform,waveform_quiet]\n",
    "sd.play(loud[1], sps)\n",
    "time.sleep(duration_s)\n",
    "sd.stop()"
   ]
  },
  {
   "cell_type": "code",
   "execution_count": 28,
   "metadata": {},
   "outputs": [],
   "source": [
    "class TonePlayer:\n",
    "    import numpy as np\n",
    "    import sounddevice as sd\n",
    "    import time\n",
    "    \n",
    "    def __init__(self, sps = 44100, freq_hz = 440.0, duration_s = 5.0, atten = 0.3):\n",
    "        self.sps = sps # samples per second\n",
    "        self.__freq_hz = freq_hz # frequency or pitch\n",
    "        self.duration_s = duration_s # duration seconds\n",
    "        self.__atten = atten # attenuation or lowering the volume\n",
    "    \n",
    "    # numpy to calculate the waveform\n",
    "    @property\n",
    "    def __each_sample_number(self):return self.np.arange(self.duration_s * self.sps)\n",
    "    \n",
    "    @property\n",
    "    def __waveform(self):return self.np.sin(2 * self.np.pi * self.__each_sample_number * self.__freq_hz / self.sps)\n",
    "    \n",
    "    @property\n",
    "    def __waveform_quiet(self):return self.__waveform * self.__atten\n",
    "    \n",
    "    @property\n",
    "    def loud(self):\n",
    "        return [self.__waveform,self.__waveform_quiet]\n",
    "    \n",
    "    def play(self, sps=sps, duration=duration_s):\n",
    "        self.sd.play(self.loud[1], sps)\n",
    "        self.time.sleep(duration)\n",
    "        self.sd.stop()"
   ]
  },
  {
   "cell_type": "code",
   "execution_count": 32,
   "metadata": {},
   "outputs": [],
   "source": [
    "tp = TonePlayer()\n",
    "tp.play(duration=1.0)"
   ]
  },
  {
   "cell_type": "code",
   "execution_count": 5,
   "metadata": {},
   "outputs": [],
   "source": []
  },
  {
   "cell_type": "code",
   "execution_count": 9,
   "metadata": {},
   "outputs": [
    {
     "name": "stdout",
     "output_type": "stream",
     "text": [
      "Requirement already satisfied: mido==1.2.9 in c:\\users\\santo\\appdata\\local\\continuum\\anaconda3\\lib\\site-packages (1.2.9)\n"
     ]
    }
   ],
   "source": [
    "!pip install mido==1.2.9"
   ]
  },
  {
   "cell_type": "code",
   "execution_count": 35,
   "metadata": {},
   "outputs": [],
   "source": [
    "import mido"
   ]
  },
  {
   "cell_type": "code",
   "execution_count": 38,
   "metadata": {},
   "outputs": [
    {
     "name": "stdout",
     "output_type": "stream",
     "text": [
      "Ole Martin Bjorndalen : ombdalen@gmail.com\n"
     ]
    }
   ],
   "source": [
    "print(mido.__author__,end=' : ')\n",
    "print(mido.__author_email__)"
   ]
  },
  {
   "cell_type": "code",
   "execution_count": 34,
   "metadata": {},
   "outputs": [
    {
     "data": {
      "text/plain": [
       "['Backend',\n",
       " 'KeySignatureError',\n",
       " 'MAX_PITCHWHEEL',\n",
       " 'MAX_SONGPOS',\n",
       " 'MIN_PITCHWHEEL',\n",
       " 'MIN_SONGPOS',\n",
       " 'Message',\n",
       " 'MetaMessage',\n",
       " 'MidiFile',\n",
       " 'MidiTrack',\n",
       " 'Parser',\n",
       " 'UnknownMetaMessage',\n",
       " '__about__',\n",
       " '__all__',\n",
       " '__author__',\n",
       " '__author_email__',\n",
       " '__builtins__',\n",
       " '__cached__',\n",
       " '__doc__',\n",
       " '__file__',\n",
       " '__license__',\n",
       " '__loader__',\n",
       " '__name__',\n",
       " '__package__',\n",
       " '__path__',\n",
       " '__spec__',\n",
       " '__url__',\n",
       " '__version__',\n",
       " 'backend',\n",
       " 'backends',\n",
       " 'bpm2tempo',\n",
       " 'format_as_string',\n",
       " 'get_input_names',\n",
       " 'get_ioport_names',\n",
       " 'get_output_names',\n",
       " 'merge_tracks',\n",
       " 'messages',\n",
       " 'midifiles',\n",
       " 'open_input',\n",
       " 'open_ioport',\n",
       " 'open_output',\n",
       " 'parse',\n",
       " 'parse_all',\n",
       " 'parse_string',\n",
       " 'parse_string_stream',\n",
       " 'parser',\n",
       " 'ports',\n",
       " 'py2',\n",
       " 'read_syx_file',\n",
       " 'second2tick',\n",
       " 'set_backend',\n",
       " 'sockets',\n",
       " 'syx',\n",
       " 'tempo2bpm',\n",
       " 'tick2second',\n",
       " 'tokenizer',\n",
       " 'version',\n",
       " 'version_info',\n",
       " 'write_syx_file']"
      ]
     },
     "execution_count": 34,
     "metadata": {},
     "output_type": "execute_result"
    }
   ],
   "source": [
    "dir(mido)"
   ]
  },
  {
   "cell_type": "code",
   "execution_count": null,
   "metadata": {},
   "outputs": [],
   "source": []
  }
 ],
 "metadata": {
  "kernelspec": {
   "display_name": "Python 3",
   "language": "python",
   "name": "python3"
  },
  "language_info": {
   "codemirror_mode": {
    "name": "ipython",
    "version": 3
   },
   "file_extension": ".py",
   "mimetype": "text/x-python",
   "name": "python",
   "nbconvert_exporter": "python",
   "pygments_lexer": "ipython3",
   "version": "3.7.3"
  }
 },
 "nbformat": 4,
 "nbformat_minor": 2
}
